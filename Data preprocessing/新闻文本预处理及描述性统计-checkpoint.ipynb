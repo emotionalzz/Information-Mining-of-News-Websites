{
 "cells": [
  {
   "cell_type": "markdown",
   "id": "b6fded23",
   "metadata": {},
   "source": [
    "## 数据预处理"
   ]
  },
  {
   "cell_type": "code",
   "execution_count": 338,
   "id": "1c649717",
   "metadata": {},
   "outputs": [],
   "source": [
    "import pandas as pd\n",
    "import numpy as np\n",
    "import os\n",
    "os.chdir('C:/Users/LYN/Desktop/[20211203]项目进度')"
   ]
  },
  {
   "cell_type": "code",
   "execution_count": 35,
   "id": "7693bf1c",
   "metadata": {},
   "outputs": [
    {
     "data": {
      "text/html": [
       "<div>\n",
       "<style scoped>\n",
       "    .dataframe tbody tr th:only-of-type {\n",
       "        vertical-align: middle;\n",
       "    }\n",
       "\n",
       "    .dataframe tbody tr th {\n",
       "        vertical-align: top;\n",
       "    }\n",
       "\n",
       "    .dataframe thead th {\n",
       "        text-align: right;\n",
       "    }\n",
       "</style>\n",
       "<table border=\"1\" class=\"dataframe\">\n",
       "  <thead>\n",
       "    <tr style=\"text-align: right;\">\n",
       "      <th></th>\n",
       "      <th>序号</th>\n",
       "      <th>正文</th>\n",
       "      <th>标题</th>\n",
       "      <th>日期</th>\n",
       "      <th>url</th>\n",
       "    </tr>\n",
       "  </thead>\n",
       "  <tbody>\n",
       "    <tr>\n",
       "      <th>0</th>\n",
       "      <td>1</td>\n",
       "      <td>习近平对全军后勤工作会议作出重要指示强调\\n加快推动现代后勤高质量发展\\n为实现建军一百年奋...</td>\n",
       "      <td>习近平对全军后勤工作会议作出重要指示_滚动新闻_中国政府网</td>\n",
       "      <td>2021-11-23 18:35</td>\n",
       "      <td>http://www.gov.cn/xinwen/2021-11/23/content_56...</td>\n",
       "    </tr>\n",
       "    <tr>\n",
       "      <th>1</th>\n",
       "      <td>2</td>\n",
       "      <td>国务院关于“十四五”对外贸易高质量发展规划的批复国函〔2021〕112号\\n各省、自治区、直...</td>\n",
       "      <td>国务院关于“十四五”对外贸易高质量发展规划的批复（国函〔2021〕112号）_政府信息公开专栏</td>\n",
       "      <td>2021年11月23日</td>\n",
       "      <td>http://www.gov.cn/zhengce/content/2021-11/23/c...</td>\n",
       "    </tr>\n",
       "    <tr>\n",
       "      <th>2</th>\n",
       "      <td>3</td>\n",
       "      <td>近日，国家发展改革委等6部门联合印发《关于进一步健全社会救助和保障标准与物价上涨挂钩联动机制...</td>\n",
       "      <td>织牢基本民生兜底保障网_解读_中国政府网</td>\n",
       "      <td>2021-11-23 09:40</td>\n",
       "      <td>http://www.gov.cn/zhengce/2021-11/23/content_5...</td>\n",
       "    </tr>\n",
       "    <tr>\n",
       "      <th>3</th>\n",
       "      <td>4</td>\n",
       "      <td>前三季度全国新增减税降费9101亿元——超九成企业对减负政策满意“今年前三季度，全国新增减税...</td>\n",
       "      <td>前三季度全国新增减税降费9101亿元_滚动新闻_中国政府网</td>\n",
       "      <td>2021-11-23 09:37</td>\n",
       "      <td>http://www.gov.cn/xinwen/2021-11/23/content_56...</td>\n",
       "    </tr>\n",
       "    <tr>\n",
       "      <th>4</th>\n",
       "      <td>5</td>\n",
       "      <td>新华社酒泉11月23日电（李国利、奉青玲）11月23日7时45分，我国在酒泉卫星发射中心用长...</td>\n",
       "      <td>我国成功发射高分三号02星_滚动新闻_中国政府网</td>\n",
       "      <td>2021-11-23 09:00</td>\n",
       "      <td>http://www.gov.cn/xinwen/2021-11/23/content_56...</td>\n",
       "    </tr>\n",
       "    <tr>\n",
       "      <th>5</th>\n",
       "      <td>6</td>\n",
       "      <td>新华社北京11月22日电 第四届世界媒体峰会22日在北京以视频连线方式举行。来自全球240家...</td>\n",
       "      <td>第四届世界媒体峰会发表北京共识_滚动新闻_中国政府网</td>\n",
       "      <td>2021-11-23 08:42</td>\n",
       "      <td>http://www.gov.cn/xinwen/2021-11/23/content_56...</td>\n",
       "    </tr>\n",
       "    <tr>\n",
       "      <th>6</th>\n",
       "      <td>7</td>\n",
       "      <td>《地下水管理条例》将于十二月一日起施行\\n强化地下水节约保护和污染防治《地下水管理条例》（以...</td>\n",
       "      <td>《地下水管理条例》12月1日起施行 聚焦哪些问题？有哪些制度安排？_解读_中国政府网</td>\n",
       "      <td>2021-11-23 07:12</td>\n",
       "      <td>http://www.gov.cn/zhengce/2021-11/23/content_5...</td>\n",
       "    </tr>\n",
       "    <tr>\n",
       "      <th>7</th>\n",
       "      <td>8</td>\n",
       "      <td>李克强主持召开经济形势部分地方政府主要负责人座谈会时强调_x000D_\\n宏观政策要有效保障...</td>\n",
       "      <td>李克强主持召开经济形势部分地方政府主要负责人座谈会_总理_中国政府网</td>\n",
       "      <td>2021-11-22 23:13</td>\n",
       "      <td>http://www.gov.cn/premier/2021-11/22/content_5...</td>\n",
       "    </tr>\n",
       "    <tr>\n",
       "      <th>8</th>\n",
       "      <td>9</td>\n",
       "      <td>孙春兰在考察冬奥会筹办工作时强调\\n精心做好医疗保障和疫情防控工作\\n确保举办健康安全北京冬...</td>\n",
       "      <td>孙春兰考察北京冬奥会医疗保障和疫情防控工作_国务院副总理孙春兰_中国政府网</td>\n",
       "      <td>2021-11-22 21:25</td>\n",
       "      <td>http://www.gov.cn/guowuyuan/2021-11/22/content...</td>\n",
       "    </tr>\n",
       "    <tr>\n",
       "      <th>9</th>\n",
       "      <td>10</td>\n",
       "      <td>新华社北京11月22日电 11月22日，国家主席习近平向第四届世界媒体峰会致贺信。习近平强调...</td>\n",
       "      <td>习近平向第四届世界媒体峰会致贺信_滚动新闻_中国政府网</td>\n",
       "      <td>2021-11-22 21:06</td>\n",
       "      <td>http://www.gov.cn/xinwen/2021-11/22/content_56...</td>\n",
       "    </tr>\n",
       "  </tbody>\n",
       "</table>\n",
       "</div>"
      ],
      "text/plain": [
       "   序号                                                 正文  \\\n",
       "0   1  习近平对全军后勤工作会议作出重要指示强调\\n加快推动现代后勤高质量发展\\n为实现建军一百年奋...   \n",
       "1   2  国务院关于“十四五”对外贸易高质量发展规划的批复国函〔2021〕112号\\n各省、自治区、直...   \n",
       "2   3  近日，国家发展改革委等6部门联合印发《关于进一步健全社会救助和保障标准与物价上涨挂钩联动机制...   \n",
       "3   4  前三季度全国新增减税降费9101亿元——超九成企业对减负政策满意“今年前三季度，全国新增减税...   \n",
       "4   5  新华社酒泉11月23日电（李国利、奉青玲）11月23日7时45分，我国在酒泉卫星发射中心用长...   \n",
       "5   6  新华社北京11月22日电 第四届世界媒体峰会22日在北京以视频连线方式举行。来自全球240家...   \n",
       "6   7  《地下水管理条例》将于十二月一日起施行\\n强化地下水节约保护和污染防治《地下水管理条例》（以...   \n",
       "7   8  李克强主持召开经济形势部分地方政府主要负责人座谈会时强调_x000D_\\n宏观政策要有效保障...   \n",
       "8   9  孙春兰在考察冬奥会筹办工作时强调\\n精心做好医疗保障和疫情防控工作\\n确保举办健康安全北京冬...   \n",
       "9  10  新华社北京11月22日电 11月22日，国家主席习近平向第四届世界媒体峰会致贺信。习近平强调...   \n",
       "\n",
       "                                                标题                  日期  \\\n",
       "0                    习近平对全军后勤工作会议作出重要指示_滚动新闻_中国政府网  2021-11-23 18:35     \n",
       "1  国务院关于“十四五”对外贸易高质量发展规划的批复（国函〔2021〕112号）_政府信息公开专栏         2021年11月23日   \n",
       "2                             织牢基本民生兜底保障网_解读_中国政府网  2021-11-23 09:40     \n",
       "3                    前三季度全国新增减税降费9101亿元_滚动新闻_中国政府网  2021-11-23 09:37     \n",
       "4                         我国成功发射高分三号02星_滚动新闻_中国政府网  2021-11-23 09:00     \n",
       "5                       第四届世界媒体峰会发表北京共识_滚动新闻_中国政府网  2021-11-23 08:42     \n",
       "6       《地下水管理条例》12月1日起施行 聚焦哪些问题？有哪些制度安排？_解读_中国政府网  2021-11-23 07:12     \n",
       "7               李克强主持召开经济形势部分地方政府主要负责人座谈会_总理_中国政府网  2021-11-22 23:13     \n",
       "8            孙春兰考察北京冬奥会医疗保障和疫情防控工作_国务院副总理孙春兰_中国政府网  2021-11-22 21:25     \n",
       "9                      习近平向第四届世界媒体峰会致贺信_滚动新闻_中国政府网  2021-11-22 21:06     \n",
       "\n",
       "                                                 url  \n",
       "0  http://www.gov.cn/xinwen/2021-11/23/content_56...  \n",
       "1  http://www.gov.cn/zhengce/content/2021-11/23/c...  \n",
       "2  http://www.gov.cn/zhengce/2021-11/23/content_5...  \n",
       "3  http://www.gov.cn/xinwen/2021-11/23/content_56...  \n",
       "4  http://www.gov.cn/xinwen/2021-11/23/content_56...  \n",
       "5  http://www.gov.cn/xinwen/2021-11/23/content_56...  \n",
       "6  http://www.gov.cn/zhengce/2021-11/23/content_5...  \n",
       "7  http://www.gov.cn/premier/2021-11/22/content_5...  \n",
       "8  http://www.gov.cn/guowuyuan/2021-11/22/content...  \n",
       "9  http://www.gov.cn/xinwen/2021-11/22/content_56...  "
      ]
     },
     "execution_count": 35,
     "metadata": {},
     "output_type": "execute_result"
    }
   ],
   "source": [
    "#读取数据\n",
    "df = pd.read_excel('C:/Users/LYN/Desktop/[20211203]项目进度/govdata.xlsx')\n",
    "df.head(10)"
   ]
  },
  {
   "cell_type": "code",
   "execution_count": 33,
   "id": "4708d6e8",
   "metadata": {},
   "outputs": [
    {
     "name": "stdout",
     "output_type": "stream",
     "text": [
      "32980 5 <class 'pandas.core.frame.DataFrame'>\n"
     ]
    }
   ],
   "source": [
    "height,width = df.shape\n",
    "print(height,width,type(df))"
   ]
  },
  {
   "cell_type": "code",
   "execution_count": 24,
   "id": "c39daf84",
   "metadata": {},
   "outputs": [
    {
     "data": {
      "text/plain": [
       "True"
      ]
     },
     "execution_count": 24,
     "metadata": {},
     "output_type": "execute_result"
    }
   ],
   "source": [
    "#观察正文为空值的特点\n",
    "df['正文'][103]"
   ]
  },
  {
   "cell_type": "code",
   "execution_count": 18,
   "id": "a5d0fed7",
   "metadata": {},
   "outputs": [
    {
     "data": {
      "text/plain": [
       "'\\n'"
      ]
     },
     "execution_count": 18,
     "metadata": {},
     "output_type": "execute_result"
    }
   ],
   "source": [
    "df['正文'][478]"
   ]
  },
  {
   "cell_type": "code",
   "execution_count": 36,
   "id": "6f7e3d5c",
   "metadata": {},
   "outputs": [],
   "source": [
    "#删除正文为空的样本\n",
    "for i in range(height):\n",
    "    if df['正文'][i]==\"\\n\":\n",
    "        #print(i) #输出哪一行的正文内容为空\n",
    "        df = df.drop([i],axis=0) #删掉该样本"
   ]
  },
  {
   "cell_type": "code",
   "execution_count": 51,
   "id": "a407e95e",
   "metadata": {},
   "outputs": [
    {
     "name": "stdout",
     "output_type": "stream",
     "text": [
      "32930 5 <class 'pandas.core.frame.DataFrame'>\n"
     ]
    }
   ],
   "source": [
    "#观察现在的样本量，可以观察到删掉了50个样本\n",
    "height,width = df.shape\n",
    "print(height,width,type(df))"
   ]
  },
  {
   "cell_type": "code",
   "execution_count": 67,
   "id": "f9531970",
   "metadata": {},
   "outputs": [],
   "source": [
    "#df的序号重新赋值\n",
    "df.index = list(range(32930))\n",
    "for i in range(32930):\n",
    "    df['序号'][i]= i+1"
   ]
  },
  {
   "cell_type": "code",
   "execution_count": 68,
   "id": "ab12de01",
   "metadata": {},
   "outputs": [
    {
     "data": {
      "text/html": [
       "<div>\n",
       "<style scoped>\n",
       "    .dataframe tbody tr th:only-of-type {\n",
       "        vertical-align: middle;\n",
       "    }\n",
       "\n",
       "    .dataframe tbody tr th {\n",
       "        vertical-align: top;\n",
       "    }\n",
       "\n",
       "    .dataframe thead th {\n",
       "        text-align: right;\n",
       "    }\n",
       "</style>\n",
       "<table border=\"1\" class=\"dataframe\">\n",
       "  <thead>\n",
       "    <tr style=\"text-align: right;\">\n",
       "      <th></th>\n",
       "      <th>序号</th>\n",
       "      <th>正文</th>\n",
       "      <th>标题</th>\n",
       "      <th>日期</th>\n",
       "      <th>url</th>\n",
       "    </tr>\n",
       "  </thead>\n",
       "  <tbody>\n",
       "    <tr>\n",
       "      <th>0</th>\n",
       "      <td>1</td>\n",
       "      <td>习近平对全军后勤工作会议作出重要指示强调\\n加快推动现代后勤高质量发展\\n为实现建军一百年奋...</td>\n",
       "      <td>习近平对全军后勤工作会议作出重要指示_滚动新闻_中国政府网</td>\n",
       "      <td>2021-11-23 18:35</td>\n",
       "      <td>http://www.gov.cn/xinwen/2021-11/23/content_56...</td>\n",
       "    </tr>\n",
       "    <tr>\n",
       "      <th>1</th>\n",
       "      <td>2</td>\n",
       "      <td>国务院关于“十四五”对外贸易高质量发展规划的批复国函〔2021〕112号\\n各省、自治区、直...</td>\n",
       "      <td>国务院关于“十四五”对外贸易高质量发展规划的批复（国函〔2021〕112号）_政府信息公开专栏</td>\n",
       "      <td>2021年11月23日</td>\n",
       "      <td>http://www.gov.cn/zhengce/content/2021-11/23/c...</td>\n",
       "    </tr>\n",
       "    <tr>\n",
       "      <th>2</th>\n",
       "      <td>3</td>\n",
       "      <td>近日，国家发展改革委等6部门联合印发《关于进一步健全社会救助和保障标准与物价上涨挂钩联动机制...</td>\n",
       "      <td>织牢基本民生兜底保障网_解读_中国政府网</td>\n",
       "      <td>2021-11-23 09:40</td>\n",
       "      <td>http://www.gov.cn/zhengce/2021-11/23/content_5...</td>\n",
       "    </tr>\n",
       "    <tr>\n",
       "      <th>3</th>\n",
       "      <td>4</td>\n",
       "      <td>前三季度全国新增减税降费9101亿元——超九成企业对减负政策满意“今年前三季度，全国新增减税...</td>\n",
       "      <td>前三季度全国新增减税降费9101亿元_滚动新闻_中国政府网</td>\n",
       "      <td>2021-11-23 09:37</td>\n",
       "      <td>http://www.gov.cn/xinwen/2021-11/23/content_56...</td>\n",
       "    </tr>\n",
       "    <tr>\n",
       "      <th>4</th>\n",
       "      <td>5</td>\n",
       "      <td>新华社酒泉11月23日电（李国利、奉青玲）11月23日7时45分，我国在酒泉卫星发射中心用长...</td>\n",
       "      <td>我国成功发射高分三号02星_滚动新闻_中国政府网</td>\n",
       "      <td>2021-11-23 09:00</td>\n",
       "      <td>http://www.gov.cn/xinwen/2021-11/23/content_56...</td>\n",
       "    </tr>\n",
       "    <tr>\n",
       "      <th>...</th>\n",
       "      <td>...</td>\n",
       "      <td>...</td>\n",
       "      <td>...</td>\n",
       "      <td>...</td>\n",
       "      <td>...</td>\n",
       "    </tr>\n",
       "    <tr>\n",
       "      <th>100</th>\n",
       "      <td>101</td>\n",
       "      <td>八十一家企业首批上市\\n北京证券交易所开市11月15日9时30分，北京证券交易所在各方期待下...</td>\n",
       "      <td>八十一家企业首批上市 北京证券交易所开市_滚动新闻_中国政府网</td>\n",
       "      <td>2021-11-16 08:16</td>\n",
       "      <td>http://www.gov.cn/xinwen/2021-11/16/content_56...</td>\n",
       "    </tr>\n",
       "    <tr>\n",
       "      <th>101</th>\n",
       "      <td>102</td>\n",
       "      <td>孙春兰在大连调研时强调\\n严密防控 果断处置\\n尽快遏制疫情扩散蔓延新华社大连11月15日电...</td>\n",
       "      <td>孙春兰在大连调研指导疫情防控工作_国务院副总理孙春兰_中国政府网</td>\n",
       "      <td>2021-11-15 22:43</td>\n",
       "      <td>http://www.gov.cn/guowuyuan/2021-11/15/content...</td>\n",
       "    </tr>\n",
       "    <tr>\n",
       "      <th>102</th>\n",
       "      <td>103</td>\n",
       "      <td>新华社北京11月15日电 国务院总理李克强11月15日下午在中南海紫光阁同柬埔寨首相洪森举行...</td>\n",
       "      <td>李克强同柬埔寨首相洪森举行视频会晤_总理_中国政府网</td>\n",
       "      <td>2021-11-15 21:25</td>\n",
       "      <td>http://www.gov.cn/premier/2021-11/15/content_5...</td>\n",
       "    </tr>\n",
       "    <tr>\n",
       "      <th>103</th>\n",
       "      <td>104</td>\n",
       "      <td>新华社北京11月15日电 题：热点面对面：新冠疫苗加强免疫接种焦点回应新华社记者 彭韵佳、沐...</td>\n",
       "      <td>热点面对面：新冠疫苗加强免疫接种焦点回应_滚动新闻_中国政府网</td>\n",
       "      <td>2021-11-15 19:52</td>\n",
       "      <td>http://www.gov.cn/xinwen/2021-11/15/content_56...</td>\n",
       "    </tr>\n",
       "    <tr>\n",
       "      <th>104</th>\n",
       "      <td>105</td>\n",
       "      <td>新华社北京11月15日电 11月15日，第六届中非民间论坛在京举行。中共中央总书记、国家主席...</td>\n",
       "      <td>习近平向第六届中非民间论坛致贺信_滚动新闻_中国政府网</td>\n",
       "      <td>2021-11-15 17:30</td>\n",
       "      <td>http://www.gov.cn/xinwen/2021-11/15/content_56...</td>\n",
       "    </tr>\n",
       "  </tbody>\n",
       "</table>\n",
       "<p>105 rows × 5 columns</p>\n",
       "</div>"
      ],
      "text/plain": [
       "      序号                                                 正文  \\\n",
       "0      1  习近平对全军后勤工作会议作出重要指示强调\\n加快推动现代后勤高质量发展\\n为实现建军一百年奋...   \n",
       "1      2  国务院关于“十四五”对外贸易高质量发展规划的批复国函〔2021〕112号\\n各省、自治区、直...   \n",
       "2      3  近日，国家发展改革委等6部门联合印发《关于进一步健全社会救助和保障标准与物价上涨挂钩联动机制...   \n",
       "3      4  前三季度全国新增减税降费9101亿元——超九成企业对减负政策满意“今年前三季度，全国新增减税...   \n",
       "4      5  新华社酒泉11月23日电（李国利、奉青玲）11月23日7时45分，我国在酒泉卫星发射中心用长...   \n",
       "..   ...                                                ...   \n",
       "100  101  八十一家企业首批上市\\n北京证券交易所开市11月15日9时30分，北京证券交易所在各方期待下...   \n",
       "101  102  孙春兰在大连调研时强调\\n严密防控 果断处置\\n尽快遏制疫情扩散蔓延新华社大连11月15日电...   \n",
       "102  103  新华社北京11月15日电 国务院总理李克强11月15日下午在中南海紫光阁同柬埔寨首相洪森举行...   \n",
       "103  104  新华社北京11月15日电 题：热点面对面：新冠疫苗加强免疫接种焦点回应新华社记者 彭韵佳、沐...   \n",
       "104  105  新华社北京11月15日电 11月15日，第六届中非民间论坛在京举行。中共中央总书记、国家主席...   \n",
       "\n",
       "                                                  标题                  日期  \\\n",
       "0                      习近平对全军后勤工作会议作出重要指示_滚动新闻_中国政府网  2021-11-23 18:35     \n",
       "1    国务院关于“十四五”对外贸易高质量发展规划的批复（国函〔2021〕112号）_政府信息公开专栏         2021年11月23日   \n",
       "2                               织牢基本民生兜底保障网_解读_中国政府网  2021-11-23 09:40     \n",
       "3                      前三季度全国新增减税降费9101亿元_滚动新闻_中国政府网  2021-11-23 09:37     \n",
       "4                           我国成功发射高分三号02星_滚动新闻_中国政府网  2021-11-23 09:00     \n",
       "..                                               ...                 ...   \n",
       "100                  八十一家企业首批上市 北京证券交易所开市_滚动新闻_中国政府网  2021-11-16 08:16     \n",
       "101                 孙春兰在大连调研指导疫情防控工作_国务院副总理孙春兰_中国政府网  2021-11-15 22:43     \n",
       "102                       李克强同柬埔寨首相洪森举行视频会晤_总理_中国政府网  2021-11-15 21:25     \n",
       "103                  热点面对面：新冠疫苗加强免疫接种焦点回应_滚动新闻_中国政府网  2021-11-15 19:52     \n",
       "104                      习近平向第六届中非民间论坛致贺信_滚动新闻_中国政府网  2021-11-15 17:30     \n",
       "\n",
       "                                                   url  \n",
       "0    http://www.gov.cn/xinwen/2021-11/23/content_56...  \n",
       "1    http://www.gov.cn/zhengce/content/2021-11/23/c...  \n",
       "2    http://www.gov.cn/zhengce/2021-11/23/content_5...  \n",
       "3    http://www.gov.cn/xinwen/2021-11/23/content_56...  \n",
       "4    http://www.gov.cn/xinwen/2021-11/23/content_56...  \n",
       "..                                                 ...  \n",
       "100  http://www.gov.cn/xinwen/2021-11/16/content_56...  \n",
       "101  http://www.gov.cn/guowuyuan/2021-11/15/content...  \n",
       "102  http://www.gov.cn/premier/2021-11/15/content_5...  \n",
       "103  http://www.gov.cn/xinwen/2021-11/15/content_56...  \n",
       "104  http://www.gov.cn/xinwen/2021-11/15/content_56...  \n",
       "\n",
       "[105 rows x 5 columns]"
      ]
     },
     "execution_count": 68,
     "metadata": {},
     "output_type": "execute_result"
    }
   ],
   "source": [
    "df.head(105)"
   ]
  },
  {
   "cell_type": "code",
   "execution_count": 71,
   "id": "f5ed816b",
   "metadata": {},
   "outputs": [],
   "source": [
    "df.to_excel(r'version1.xlsx')"
   ]
  },
  {
   "cell_type": "code",
   "execution_count": 83,
   "id": "7eae80a1",
   "metadata": {},
   "outputs": [
    {
     "data": {
      "text/html": [
       "<div>\n",
       "<style scoped>\n",
       "    .dataframe tbody tr th:only-of-type {\n",
       "        vertical-align: middle;\n",
       "    }\n",
       "\n",
       "    .dataframe tbody tr th {\n",
       "        vertical-align: top;\n",
       "    }\n",
       "\n",
       "    .dataframe thead th {\n",
       "        text-align: right;\n",
       "    }\n",
       "</style>\n",
       "<table border=\"1\" class=\"dataframe\">\n",
       "  <thead>\n",
       "    <tr style=\"text-align: right;\">\n",
       "      <th></th>\n",
       "      <th>序号</th>\n",
       "      <th>正文</th>\n",
       "      <th>标题</th>\n",
       "      <th>日期</th>\n",
       "      <th>url</th>\n",
       "    </tr>\n",
       "  </thead>\n",
       "  <tbody>\n",
       "    <tr>\n",
       "      <th>0</th>\n",
       "      <td>1</td>\n",
       "      <td>习近平对全军后勤工作会议作出重要指示强调\\n加快推动现代后勤高质量发展\\n为实现建军一百年奋...</td>\n",
       "      <td>习近平对全军后勤工作会议作出重要指示</td>\n",
       "      <td>2021-11-23 18:35</td>\n",
       "      <td>http://www.gov.cn/xinwen/2021-11/23/content_56...</td>\n",
       "    </tr>\n",
       "    <tr>\n",
       "      <th>1</th>\n",
       "      <td>2</td>\n",
       "      <td>国务院关于“十四五”对外贸易高质量发展规划的批复国函〔2021〕112号\\n各省、自治区、直...</td>\n",
       "      <td>国务院关于“十四五”对外贸易高质量发展规划的批复（国函〔2021〕112号）</td>\n",
       "      <td>2021年11月23日</td>\n",
       "      <td>http://www.gov.cn/zhengce/content/2021-11/23/c...</td>\n",
       "    </tr>\n",
       "    <tr>\n",
       "      <th>2</th>\n",
       "      <td>3</td>\n",
       "      <td>近日，国家发展改革委等6部门联合印发《关于进一步健全社会救助和保障标准与物价上涨挂钩联动机制...</td>\n",
       "      <td>织牢基本民生兜底保障网</td>\n",
       "      <td>2021-11-23 09:40</td>\n",
       "      <td>http://www.gov.cn/zhengce/2021-11/23/content_5...</td>\n",
       "    </tr>\n",
       "    <tr>\n",
       "      <th>3</th>\n",
       "      <td>4</td>\n",
       "      <td>前三季度全国新增减税降费9101亿元——超九成企业对减负政策满意“今年前三季度，全国新增减税...</td>\n",
       "      <td>前三季度全国新增减税降费9101亿元</td>\n",
       "      <td>2021-11-23 09:37</td>\n",
       "      <td>http://www.gov.cn/xinwen/2021-11/23/content_56...</td>\n",
       "    </tr>\n",
       "    <tr>\n",
       "      <th>4</th>\n",
       "      <td>5</td>\n",
       "      <td>新华社酒泉11月23日电（李国利、奉青玲）11月23日7时45分，我国在酒泉卫星发射中心用长...</td>\n",
       "      <td>我国成功发射高分三号02星</td>\n",
       "      <td>2021-11-23 09:00</td>\n",
       "      <td>http://www.gov.cn/xinwen/2021-11/23/content_56...</td>\n",
       "    </tr>\n",
       "    <tr>\n",
       "      <th>5</th>\n",
       "      <td>6</td>\n",
       "      <td>新华社北京11月22日电 第四届世界媒体峰会22日在北京以视频连线方式举行。来自全球240家...</td>\n",
       "      <td>第四届世界媒体峰会发表北京共识</td>\n",
       "      <td>2021-11-23 08:42</td>\n",
       "      <td>http://www.gov.cn/xinwen/2021-11/23/content_56...</td>\n",
       "    </tr>\n",
       "    <tr>\n",
       "      <th>6</th>\n",
       "      <td>7</td>\n",
       "      <td>《地下水管理条例》将于十二月一日起施行\\n强化地下水节约保护和污染防治《地下水管理条例》（以...</td>\n",
       "      <td>《地下水管理条例》12月1日起施行 聚焦哪些问题？有哪些制度安排？</td>\n",
       "      <td>2021-11-23 07:12</td>\n",
       "      <td>http://www.gov.cn/zhengce/2021-11/23/content_5...</td>\n",
       "    </tr>\n",
       "    <tr>\n",
       "      <th>7</th>\n",
       "      <td>8</td>\n",
       "      <td>李克强主持召开经济形势部分地方政府主要负责人座谈会时强调_x000D_\\n宏观政策要有效保障...</td>\n",
       "      <td>李克强主持召开经济形势部分地方政府主要负责人座谈会</td>\n",
       "      <td>2021-11-22 23:13</td>\n",
       "      <td>http://www.gov.cn/premier/2021-11/22/content_5...</td>\n",
       "    </tr>\n",
       "    <tr>\n",
       "      <th>8</th>\n",
       "      <td>9</td>\n",
       "      <td>孙春兰在考察冬奥会筹办工作时强调\\n精心做好医疗保障和疫情防控工作\\n确保举办健康安全北京冬...</td>\n",
       "      <td>孙春兰考察北京冬奥会医疗保障和疫情防控工作</td>\n",
       "      <td>2021-11-22 21:25</td>\n",
       "      <td>http://www.gov.cn/guowuyuan/2021-11/22/content...</td>\n",
       "    </tr>\n",
       "    <tr>\n",
       "      <th>9</th>\n",
       "      <td>10</td>\n",
       "      <td>新华社北京11月22日电 11月22日，国家主席习近平向第四届世界媒体峰会致贺信。习近平强调...</td>\n",
       "      <td>习近平向第四届世界媒体峰会致贺信</td>\n",
       "      <td>2021-11-22 21:06</td>\n",
       "      <td>http://www.gov.cn/xinwen/2021-11/22/content_56...</td>\n",
       "    </tr>\n",
       "  </tbody>\n",
       "</table>\n",
       "</div>"
      ],
      "text/plain": [
       "   序号                                                 正文  \\\n",
       "0   1  习近平对全军后勤工作会议作出重要指示强调\\n加快推动现代后勤高质量发展\\n为实现建军一百年奋...   \n",
       "1   2  国务院关于“十四五”对外贸易高质量发展规划的批复国函〔2021〕112号\\n各省、自治区、直...   \n",
       "2   3  近日，国家发展改革委等6部门联合印发《关于进一步健全社会救助和保障标准与物价上涨挂钩联动机制...   \n",
       "3   4  前三季度全国新增减税降费9101亿元——超九成企业对减负政策满意“今年前三季度，全国新增减税...   \n",
       "4   5  新华社酒泉11月23日电（李国利、奉青玲）11月23日7时45分，我国在酒泉卫星发射中心用长...   \n",
       "5   6  新华社北京11月22日电 第四届世界媒体峰会22日在北京以视频连线方式举行。来自全球240家...   \n",
       "6   7  《地下水管理条例》将于十二月一日起施行\\n强化地下水节约保护和污染防治《地下水管理条例》（以...   \n",
       "7   8  李克强主持召开经济形势部分地方政府主要负责人座谈会时强调_x000D_\\n宏观政策要有效保障...   \n",
       "8   9  孙春兰在考察冬奥会筹办工作时强调\\n精心做好医疗保障和疫情防控工作\\n确保举办健康安全北京冬...   \n",
       "9  10  新华社北京11月22日电 11月22日，国家主席习近平向第四届世界媒体峰会致贺信。习近平强调...   \n",
       "\n",
       "                                       标题                  日期  \\\n",
       "0                      习近平对全军后勤工作会议作出重要指示  2021-11-23 18:35     \n",
       "1  国务院关于“十四五”对外贸易高质量发展规划的批复（国函〔2021〕112号）         2021年11月23日   \n",
       "2                             织牢基本民生兜底保障网  2021-11-23 09:40     \n",
       "3                      前三季度全国新增减税降费9101亿元  2021-11-23 09:37     \n",
       "4                           我国成功发射高分三号02星  2021-11-23 09:00     \n",
       "5                         第四届世界媒体峰会发表北京共识  2021-11-23 08:42     \n",
       "6       《地下水管理条例》12月1日起施行 聚焦哪些问题？有哪些制度安排？  2021-11-23 07:12     \n",
       "7               李克强主持召开经济形势部分地方政府主要负责人座谈会  2021-11-22 23:13     \n",
       "8                   孙春兰考察北京冬奥会医疗保障和疫情防控工作  2021-11-22 21:25     \n",
       "9                        习近平向第四届世界媒体峰会致贺信  2021-11-22 21:06     \n",
       "\n",
       "                                                 url  \n",
       "0  http://www.gov.cn/xinwen/2021-11/23/content_56...  \n",
       "1  http://www.gov.cn/zhengce/content/2021-11/23/c...  \n",
       "2  http://www.gov.cn/zhengce/2021-11/23/content_5...  \n",
       "3  http://www.gov.cn/xinwen/2021-11/23/content_56...  \n",
       "4  http://www.gov.cn/xinwen/2021-11/23/content_56...  \n",
       "5  http://www.gov.cn/xinwen/2021-11/23/content_56...  \n",
       "6  http://www.gov.cn/zhengce/2021-11/23/content_5...  \n",
       "7  http://www.gov.cn/premier/2021-11/22/content_5...  \n",
       "8  http://www.gov.cn/guowuyuan/2021-11/22/content...  \n",
       "9  http://www.gov.cn/xinwen/2021-11/22/content_56...  "
      ]
     },
     "execution_count": 83,
     "metadata": {},
     "output_type": "execute_result"
    }
   ],
   "source": [
    "#对标题进行格式的统一\n",
    "for i in range(height):\n",
    "    for j in range(len(df['标题'][i])):\n",
    "        if df['标题'][i][j]=='_':\n",
    "            df['标题'][i] = df['标题'][i][0:j]\n",
    "            break\n",
    "df.head(10)"
   ]
  },
  {
   "cell_type": "code",
   "execution_count": 84,
   "id": "6494c60e",
   "metadata": {},
   "outputs": [],
   "source": [
    "df.to_excel(r'version2.xlsx')"
   ]
  },
  {
   "cell_type": "code",
   "execution_count": 85,
   "id": "50ca2a5e",
   "metadata": {},
   "outputs": [],
   "source": [
    "#对日期进行格式的统一\n",
    "for i in range(height):\n",
    "    df['日期'][i] =df['日期'][i][0:4]+'-'+df['日期'][i][5:7]+'-'+df['日期'][i][8:10]"
   ]
  },
  {
   "cell_type": "code",
   "execution_count": 86,
   "id": "7c01a082",
   "metadata": {},
   "outputs": [
    {
     "data": {
      "text/html": [
       "<div>\n",
       "<style scoped>\n",
       "    .dataframe tbody tr th:only-of-type {\n",
       "        vertical-align: middle;\n",
       "    }\n",
       "\n",
       "    .dataframe tbody tr th {\n",
       "        vertical-align: top;\n",
       "    }\n",
       "\n",
       "    .dataframe thead th {\n",
       "        text-align: right;\n",
       "    }\n",
       "</style>\n",
       "<table border=\"1\" class=\"dataframe\">\n",
       "  <thead>\n",
       "    <tr style=\"text-align: right;\">\n",
       "      <th></th>\n",
       "      <th>序号</th>\n",
       "      <th>正文</th>\n",
       "      <th>标题</th>\n",
       "      <th>日期</th>\n",
       "      <th>url</th>\n",
       "    </tr>\n",
       "  </thead>\n",
       "  <tbody>\n",
       "    <tr>\n",
       "      <th>0</th>\n",
       "      <td>1</td>\n",
       "      <td>习近平对全军后勤工作会议作出重要指示强调\\n加快推动现代后勤高质量发展\\n为实现建军一百年奋...</td>\n",
       "      <td>习近平对全军后勤工作会议作出重要指示</td>\n",
       "      <td>2021-11-23</td>\n",
       "      <td>http://www.gov.cn/xinwen/2021-11/23/content_56...</td>\n",
       "    </tr>\n",
       "    <tr>\n",
       "      <th>1</th>\n",
       "      <td>2</td>\n",
       "      <td>国务院关于“十四五”对外贸易高质量发展规划的批复国函〔2021〕112号\\n各省、自治区、直...</td>\n",
       "      <td>国务院关于“十四五”对外贸易高质量发展规划的批复（国函〔2021〕112号）</td>\n",
       "      <td>2021-11-23</td>\n",
       "      <td>http://www.gov.cn/zhengce/content/2021-11/23/c...</td>\n",
       "    </tr>\n",
       "    <tr>\n",
       "      <th>2</th>\n",
       "      <td>3</td>\n",
       "      <td>近日，国家发展改革委等6部门联合印发《关于进一步健全社会救助和保障标准与物价上涨挂钩联动机制...</td>\n",
       "      <td>织牢基本民生兜底保障网</td>\n",
       "      <td>2021-11-23</td>\n",
       "      <td>http://www.gov.cn/zhengce/2021-11/23/content_5...</td>\n",
       "    </tr>\n",
       "    <tr>\n",
       "      <th>3</th>\n",
       "      <td>4</td>\n",
       "      <td>前三季度全国新增减税降费9101亿元——超九成企业对减负政策满意“今年前三季度，全国新增减税...</td>\n",
       "      <td>前三季度全国新增减税降费9101亿元</td>\n",
       "      <td>2021-11-23</td>\n",
       "      <td>http://www.gov.cn/xinwen/2021-11/23/content_56...</td>\n",
       "    </tr>\n",
       "    <tr>\n",
       "      <th>4</th>\n",
       "      <td>5</td>\n",
       "      <td>新华社酒泉11月23日电（李国利、奉青玲）11月23日7时45分，我国在酒泉卫星发射中心用长...</td>\n",
       "      <td>我国成功发射高分三号02星</td>\n",
       "      <td>2021-11-23</td>\n",
       "      <td>http://www.gov.cn/xinwen/2021-11/23/content_56...</td>\n",
       "    </tr>\n",
       "    <tr>\n",
       "      <th>5</th>\n",
       "      <td>6</td>\n",
       "      <td>新华社北京11月22日电 第四届世界媒体峰会22日在北京以视频连线方式举行。来自全球240家...</td>\n",
       "      <td>第四届世界媒体峰会发表北京共识</td>\n",
       "      <td>2021-11-23</td>\n",
       "      <td>http://www.gov.cn/xinwen/2021-11/23/content_56...</td>\n",
       "    </tr>\n",
       "    <tr>\n",
       "      <th>6</th>\n",
       "      <td>7</td>\n",
       "      <td>《地下水管理条例》将于十二月一日起施行\\n强化地下水节约保护和污染防治《地下水管理条例》（以...</td>\n",
       "      <td>《地下水管理条例》12月1日起施行 聚焦哪些问题？有哪些制度安排？</td>\n",
       "      <td>2021-11-23</td>\n",
       "      <td>http://www.gov.cn/zhengce/2021-11/23/content_5...</td>\n",
       "    </tr>\n",
       "    <tr>\n",
       "      <th>7</th>\n",
       "      <td>8</td>\n",
       "      <td>李克强主持召开经济形势部分地方政府主要负责人座谈会时强调_x000D_\\n宏观政策要有效保障...</td>\n",
       "      <td>李克强主持召开经济形势部分地方政府主要负责人座谈会</td>\n",
       "      <td>2021-11-22</td>\n",
       "      <td>http://www.gov.cn/premier/2021-11/22/content_5...</td>\n",
       "    </tr>\n",
       "    <tr>\n",
       "      <th>8</th>\n",
       "      <td>9</td>\n",
       "      <td>孙春兰在考察冬奥会筹办工作时强调\\n精心做好医疗保障和疫情防控工作\\n确保举办健康安全北京冬...</td>\n",
       "      <td>孙春兰考察北京冬奥会医疗保障和疫情防控工作</td>\n",
       "      <td>2021-11-22</td>\n",
       "      <td>http://www.gov.cn/guowuyuan/2021-11/22/content...</td>\n",
       "    </tr>\n",
       "    <tr>\n",
       "      <th>9</th>\n",
       "      <td>10</td>\n",
       "      <td>新华社北京11月22日电 11月22日，国家主席习近平向第四届世界媒体峰会致贺信。习近平强调...</td>\n",
       "      <td>习近平向第四届世界媒体峰会致贺信</td>\n",
       "      <td>2021-11-22</td>\n",
       "      <td>http://www.gov.cn/xinwen/2021-11/22/content_56...</td>\n",
       "    </tr>\n",
       "  </tbody>\n",
       "</table>\n",
       "</div>"
      ],
      "text/plain": [
       "   序号                                                 正文  \\\n",
       "0   1  习近平对全军后勤工作会议作出重要指示强调\\n加快推动现代后勤高质量发展\\n为实现建军一百年奋...   \n",
       "1   2  国务院关于“十四五”对外贸易高质量发展规划的批复国函〔2021〕112号\\n各省、自治区、直...   \n",
       "2   3  近日，国家发展改革委等6部门联合印发《关于进一步健全社会救助和保障标准与物价上涨挂钩联动机制...   \n",
       "3   4  前三季度全国新增减税降费9101亿元——超九成企业对减负政策满意“今年前三季度，全国新增减税...   \n",
       "4   5  新华社酒泉11月23日电（李国利、奉青玲）11月23日7时45分，我国在酒泉卫星发射中心用长...   \n",
       "5   6  新华社北京11月22日电 第四届世界媒体峰会22日在北京以视频连线方式举行。来自全球240家...   \n",
       "6   7  《地下水管理条例》将于十二月一日起施行\\n强化地下水节约保护和污染防治《地下水管理条例》（以...   \n",
       "7   8  李克强主持召开经济形势部分地方政府主要负责人座谈会时强调_x000D_\\n宏观政策要有效保障...   \n",
       "8   9  孙春兰在考察冬奥会筹办工作时强调\\n精心做好医疗保障和疫情防控工作\\n确保举办健康安全北京冬...   \n",
       "9  10  新华社北京11月22日电 11月22日，国家主席习近平向第四届世界媒体峰会致贺信。习近平强调...   \n",
       "\n",
       "                                       标题          日期  \\\n",
       "0                      习近平对全军后勤工作会议作出重要指示  2021-11-23   \n",
       "1  国务院关于“十四五”对外贸易高质量发展规划的批复（国函〔2021〕112号）  2021-11-23   \n",
       "2                             织牢基本民生兜底保障网  2021-11-23   \n",
       "3                      前三季度全国新增减税降费9101亿元  2021-11-23   \n",
       "4                           我国成功发射高分三号02星  2021-11-23   \n",
       "5                         第四届世界媒体峰会发表北京共识  2021-11-23   \n",
       "6       《地下水管理条例》12月1日起施行 聚焦哪些问题？有哪些制度安排？  2021-11-23   \n",
       "7               李克强主持召开经济形势部分地方政府主要负责人座谈会  2021-11-22   \n",
       "8                   孙春兰考察北京冬奥会医疗保障和疫情防控工作  2021-11-22   \n",
       "9                        习近平向第四届世界媒体峰会致贺信  2021-11-22   \n",
       "\n",
       "                                                 url  \n",
       "0  http://www.gov.cn/xinwen/2021-11/23/content_56...  \n",
       "1  http://www.gov.cn/zhengce/content/2021-11/23/c...  \n",
       "2  http://www.gov.cn/zhengce/2021-11/23/content_5...  \n",
       "3  http://www.gov.cn/xinwen/2021-11/23/content_56...  \n",
       "4  http://www.gov.cn/xinwen/2021-11/23/content_56...  \n",
       "5  http://www.gov.cn/xinwen/2021-11/23/content_56...  \n",
       "6  http://www.gov.cn/zhengce/2021-11/23/content_5...  \n",
       "7  http://www.gov.cn/premier/2021-11/22/content_5...  \n",
       "8  http://www.gov.cn/guowuyuan/2021-11/22/content...  \n",
       "9  http://www.gov.cn/xinwen/2021-11/22/content_56...  "
      ]
     },
     "execution_count": 86,
     "metadata": {},
     "output_type": "execute_result"
    }
   ],
   "source": [
    "df.head(10)"
   ]
  },
  {
   "cell_type": "code",
   "execution_count": 87,
   "id": "155c0ebc",
   "metadata": {},
   "outputs": [],
   "source": [
    "df.to_excel(r'version3.xlsx')"
   ]
  },
  {
   "cell_type": "markdown",
   "id": "09d0add1",
   "metadata": {},
   "source": [
    "## 描述统计分析 "
   ]
  },
  {
   "cell_type": "code",
   "execution_count": 90,
   "id": "4f29f8e6",
   "metadata": {},
   "outputs": [],
   "source": [
    "#新闻的时间分布特点\n",
    "#季度分布特点\n",
    "import matplotlib as mpl\n",
    "import matplotlib.pyplot as plt\n",
    "mpl.rcParams['font.sans-serif'] = ['SimHei']  # 指定默认字体\n",
    "mpl.rcParams['axes.unicode_minus'] = False  # 解决保存图像是负号'-'显示为方块的问题"
   ]
  },
  {
   "cell_type": "code",
   "execution_count": 150,
   "id": "d388fc04",
   "metadata": {},
   "outputs": [
    {
     "data": {
      "text/html": [
       "<div>\n",
       "<style scoped>\n",
       "    .dataframe tbody tr th:only-of-type {\n",
       "        vertical-align: middle;\n",
       "    }\n",
       "\n",
       "    .dataframe tbody tr th {\n",
       "        vertical-align: top;\n",
       "    }\n",
       "\n",
       "    .dataframe thead th {\n",
       "        text-align: right;\n",
       "    }\n",
       "</style>\n",
       "<table border=\"1\" class=\"dataframe\">\n",
       "  <thead>\n",
       "    <tr style=\"text-align: right;\">\n",
       "      <th></th>\n",
       "      <th>序号</th>\n",
       "      <th>正文</th>\n",
       "      <th>标题</th>\n",
       "      <th>日期</th>\n",
       "      <th>url</th>\n",
       "    </tr>\n",
       "  </thead>\n",
       "  <tbody>\n",
       "    <tr>\n",
       "      <th>4237</th>\n",
       "      <td>4238</td>\n",
       "      <td>新华社北京12月31日电 题：积极的财政政策如何提质增效、更可持续？——解读2021年财政工...</td>\n",
       "      <td>积极的财政政策如何提质增效、更可持续？——解读2021年财政工作新看点</td>\n",
       "      <td>2020-12-31</td>\n",
       "      <td>http://www.gov.cn/xinwen/2020-12/31/content_55...</td>\n",
       "    </tr>\n",
       "    <tr>\n",
       "      <th>4238</th>\n",
       "      <td>4239</td>\n",
       "      <td>新华社北京12月31日电 题：这些新规元旦起实施，给你我带来哪些新变化？新华社记者2021年...</td>\n",
       "      <td>这些新规元旦起实施，给你我带来哪些新变化？</td>\n",
       "      <td>2020-12-31</td>\n",
       "      <td>http://www.gov.cn/xinwen/2020-12/31/content_55...</td>\n",
       "    </tr>\n",
       "    <tr>\n",
       "      <th>4239</th>\n",
       "      <td>4240</td>\n",
       "      <td>长江流域重点水域“十年禁渔”全面启动活动31日在湖北省武汉市举行。中共中央政治局委员、国务院...</td>\n",
       "      <td>胡春华出席长江流域重点水域“十年禁渔”全面启动活动</td>\n",
       "      <td>2020-12-31</td>\n",
       "      <td>http://www.gov.cn/guowuyuan/2020-12/31/content...</td>\n",
       "    </tr>\n",
       "    <tr>\n",
       "      <th>4240</th>\n",
       "      <td>4241</td>\n",
       "      <td>\\n新年前夕，国家主席习近平通过中央广播电视总台和互联网，发表二〇二一年新年贺词。新华社记者...</td>\n",
       "      <td>国家主席习近平发表二〇二一年新年贺词</td>\n",
       "      <td>2020-12-31</td>\n",
       "      <td>http://www.gov.cn/xinwen/2020-12/31/content_55...</td>\n",
       "    </tr>\n",
       "    <tr>\n",
       "      <th>4241</th>\n",
       "      <td>4242</td>\n",
       "      <td>国家主席习近平通过中央广播电视总台和互联网，发表二〇二一年新年贺词。\\n</td>\n",
       "      <td>习近平发表新年贺词</td>\n",
       "      <td>2020-12-31</td>\n",
       "      <td>http://www.gov.cn/xinwen/2020-12/31/content_55...</td>\n",
       "    </tr>\n",
       "  </tbody>\n",
       "</table>\n",
       "</div>"
      ],
      "text/plain": [
       "        序号                                                 正文  \\\n",
       "4237  4238  新华社北京12月31日电 题：积极的财政政策如何提质增效、更可持续？——解读2021年财政工...   \n",
       "4238  4239  新华社北京12月31日电 题：这些新规元旦起实施，给你我带来哪些新变化？新华社记者2021年...   \n",
       "4239  4240  长江流域重点水域“十年禁渔”全面启动活动31日在湖北省武汉市举行。中共中央政治局委员、国务院...   \n",
       "4240  4241  \\n新年前夕，国家主席习近平通过中央广播电视总台和互联网，发表二〇二一年新年贺词。新华社记者...   \n",
       "4241  4242               国家主席习近平通过中央广播电视总台和互联网，发表二〇二一年新年贺词。\\n   \n",
       "\n",
       "                                       标题          日期  \\\n",
       "4237  积极的财政政策如何提质增效、更可持续？——解读2021年财政工作新看点  2020-12-31   \n",
       "4238                这些新规元旦起实施，给你我带来哪些新变化？  2020-12-31   \n",
       "4239            胡春华出席长江流域重点水域“十年禁渔”全面启动活动  2020-12-31   \n",
       "4240                   国家主席习近平发表二〇二一年新年贺词  2020-12-31   \n",
       "4241                            习近平发表新年贺词  2020-12-31   \n",
       "\n",
       "                                                    url  \n",
       "4237  http://www.gov.cn/xinwen/2020-12/31/content_55...  \n",
       "4238  http://www.gov.cn/xinwen/2020-12/31/content_55...  \n",
       "4239  http://www.gov.cn/guowuyuan/2020-12/31/content...  \n",
       "4240  http://www.gov.cn/xinwen/2020-12/31/content_55...  \n",
       "4241  http://www.gov.cn/xinwen/2020-12/31/content_55...  "
      ]
     },
     "execution_count": 150,
     "metadata": {},
     "output_type": "execute_result"
    }
   ],
   "source": [
    "#以2020年为例，先提取2020年所有的新闻\n",
    "df_2020 = df[4237:9111]\n",
    "df_2020.head()"
   ]
  },
  {
   "cell_type": "code",
   "execution_count": 177,
   "id": "f68ae346",
   "metadata": {},
   "outputs": [
    {
     "data": {
      "text/plain": [
       "(4874, 5)"
      ]
     },
     "execution_count": 177,
     "metadata": {},
     "output_type": "execute_result"
    }
   ],
   "source": [
    "df_2020.shape"
   ]
  },
  {
   "cell_type": "code",
   "execution_count": 156,
   "id": "0e44997b",
   "metadata": {},
   "outputs": [
    {
     "data": {
      "text/html": [
       "<div>\n",
       "<style scoped>\n",
       "    .dataframe tbody tr th:only-of-type {\n",
       "        vertical-align: middle;\n",
       "    }\n",
       "\n",
       "    .dataframe tbody tr th {\n",
       "        vertical-align: top;\n",
       "    }\n",
       "\n",
       "    .dataframe thead th {\n",
       "        text-align: right;\n",
       "    }\n",
       "</style>\n",
       "<table border=\"1\" class=\"dataframe\">\n",
       "  <thead>\n",
       "    <tr style=\"text-align: right;\">\n",
       "      <th></th>\n",
       "      <th>日期</th>\n",
       "    </tr>\n",
       "  </thead>\n",
       "  <tbody>\n",
       "    <tr>\n",
       "      <th>0</th>\n",
       "      <td>2020-01-01</td>\n",
       "    </tr>\n",
       "    <tr>\n",
       "      <th>1</th>\n",
       "      <td>2020-01-01</td>\n",
       "    </tr>\n",
       "    <tr>\n",
       "      <th>2</th>\n",
       "      <td>2020-01-01</td>\n",
       "    </tr>\n",
       "    <tr>\n",
       "      <th>3</th>\n",
       "      <td>2020-01-01</td>\n",
       "    </tr>\n",
       "    <tr>\n",
       "      <th>4</th>\n",
       "      <td>2020-01-01</td>\n",
       "    </tr>\n",
       "  </tbody>\n",
       "</table>\n",
       "</div>"
      ],
      "text/plain": [
       "           日期\n",
       "0  2020-01-01\n",
       "1  2020-01-01\n",
       "2  2020-01-01\n",
       "3  2020-01-01\n",
       "4  2020-01-01"
      ]
     },
     "execution_count": 156,
     "metadata": {},
     "output_type": "execute_result"
    }
   ],
   "source": [
    "date_2020 = sorted(df_2020['日期'])\n",
    "df_date_2020 = pd.DataFrame(date_2020,columns = ['日期'])\n",
    "df_date_2020.head()\n"
   ]
  },
  {
   "cell_type": "code",
   "execution_count": 174,
   "id": "cc021a41",
   "metadata": {},
   "outputs": [
    {
     "data": {
      "text/plain": [
       "日期        \n",
       "2020-01-01    17\n",
       "2020-01-02    11\n",
       "2020-01-03    18\n",
       "2020-01-04    13\n",
       "2020-01-05    15\n",
       "              ..\n",
       "2020-12-27     5\n",
       "2020-12-28    13\n",
       "2020-12-29     5\n",
       "2020-12-30    16\n",
       "2020-12-31    10\n",
       "Length: 365, dtype: int64"
      ]
     },
     "execution_count": 174,
     "metadata": {},
     "output_type": "execute_result"
    }
   ],
   "source": [
    "date_count_2020 = df_date_2020.value_counts(sort=False)\n",
    "date_count_2020.to_excel(r'count_2020.xlsx')\n",
    "date_count_2020\n"
   ]
  },
  {
   "cell_type": "code",
   "execution_count": 164,
   "id": "a952b900",
   "metadata": {},
   "outputs": [
    {
     "data": {
      "text/plain": [
       "日期        \n",
       "2020-09-08    46\n",
       "2020-05-22    35\n",
       "2020-01-17    32\n",
       "2020-10-14    31\n",
       "2020-11-04    30\n",
       "              ..\n",
       "2020-06-13     5\n",
       "2020-07-26     5\n",
       "2020-12-25     4\n",
       "2020-04-19     2\n",
       "2020-05-01     2\n",
       "Length: 365, dtype: int64"
      ]
     },
     "execution_count": 164,
     "metadata": {},
     "output_type": "execute_result"
    }
   ],
   "source": [
    "df_date_2020.value_counts()"
   ]
  },
  {
   "cell_type": "code",
   "execution_count": 163,
   "id": "806d19a2",
   "metadata": {},
   "outputs": [
    {
     "data": {
      "text/plain": [
       "<AxesSubplot:xlabel='日期'>"
      ]
     },
     "execution_count": 163,
     "metadata": {},
     "output_type": "execute_result"
    },
    {
     "data": {
      "image/png": "[encoded data removed]",
      "text/plain": [
       "<Figure size 2160x468 with 1 Axes>"
      ]
     },
     "metadata": {
      "needs_background": "light"
     },
     "output_type": "display_data"
    }
   ],
   "source": [
    "#一年内的分布特点:折线图展示\n",
    "plt.figure(figsize=(30, 6.5))\n",
    "date_count_2020.plot(use_index=True,grid=True)"
   ]
  },
  {
   "cell_type": "code",
   "execution_count": 168,
   "id": "4ccea7a7",
   "metadata": {},
   "outputs": [
    {
     "data": {
      "text/html": [
       "<div>\n",
       "<style scoped>\n",
       "    .dataframe tbody tr th:only-of-type {\n",
       "        vertical-align: middle;\n",
       "    }\n",
       "\n",
       "    .dataframe tbody tr th {\n",
       "        vertical-align: top;\n",
       "    }\n",
       "\n",
       "    .dataframe thead th {\n",
       "        text-align: right;\n",
       "    }\n",
       "</style>\n",
       "<table border=\"1\" class=\"dataframe\">\n",
       "  <thead>\n",
       "    <tr style=\"text-align: right;\">\n",
       "      <th></th>\n",
       "      <th>序号</th>\n",
       "      <th>正文</th>\n",
       "      <th>标题</th>\n",
       "      <th>日期</th>\n",
       "      <th>url</th>\n",
       "    </tr>\n",
       "  </thead>\n",
       "  <tbody>\n",
       "    <tr>\n",
       "      <th>0</th>\n",
       "      <td>1</td>\n",
       "      <td>习近平对全军后勤工作会议作出重要指示强调\\n加快推动现代后勤高质量发展\\n为实现建军一百年奋...</td>\n",
       "      <td>习近平对全军后勤工作会议作出重要指示</td>\n",
       "      <td>2021-11-23</td>\n",
       "      <td>http://www.gov.cn/xinwen/2021-11/23/content_56...</td>\n",
       "    </tr>\n",
       "    <tr>\n",
       "      <th>1</th>\n",
       "      <td>2</td>\n",
       "      <td>国务院关于“十四五”对外贸易高质量发展规划的批复国函〔2021〕112号\\n各省、自治区、直...</td>\n",
       "      <td>国务院关于“十四五”对外贸易高质量发展规划的批复（国函〔2021〕112号）</td>\n",
       "      <td>2021-11-23</td>\n",
       "      <td>http://www.gov.cn/zhengce/content/2021-11/23/c...</td>\n",
       "    </tr>\n",
       "    <tr>\n",
       "      <th>2</th>\n",
       "      <td>3</td>\n",
       "      <td>近日，国家发展改革委等6部门联合印发《关于进一步健全社会救助和保障标准与物价上涨挂钩联动机制...</td>\n",
       "      <td>织牢基本民生兜底保障网</td>\n",
       "      <td>2021-11-23</td>\n",
       "      <td>http://www.gov.cn/zhengce/2021-11/23/content_5...</td>\n",
       "    </tr>\n",
       "    <tr>\n",
       "      <th>3</th>\n",
       "      <td>4</td>\n",
       "      <td>前三季度全国新增减税降费9101亿元——超九成企业对减负政策满意“今年前三季度，全国新增减税...</td>\n",
       "      <td>前三季度全国新增减税降费9101亿元</td>\n",
       "      <td>2021-11-23</td>\n",
       "      <td>http://www.gov.cn/xinwen/2021-11/23/content_56...</td>\n",
       "    </tr>\n",
       "    <tr>\n",
       "      <th>4</th>\n",
       "      <td>5</td>\n",
       "      <td>新华社酒泉11月23日电（李国利、奉青玲）11月23日7时45分，我国在酒泉卫星发射中心用长...</td>\n",
       "      <td>我国成功发射高分三号02星</td>\n",
       "      <td>2021-11-23</td>\n",
       "      <td>http://www.gov.cn/xinwen/2021-11/23/content_56...</td>\n",
       "    </tr>\n",
       "  </tbody>\n",
       "</table>\n",
       "</div>"
      ],
      "text/plain": [
       "  序号                                                 正文  \\\n",
       "0  1  习近平对全军后勤工作会议作出重要指示强调\\n加快推动现代后勤高质量发展\\n为实现建军一百年奋...   \n",
       "1  2  国务院关于“十四五”对外贸易高质量发展规划的批复国函〔2021〕112号\\n各省、自治区、直...   \n",
       "2  3  近日，国家发展改革委等6部门联合印发《关于进一步健全社会救助和保障标准与物价上涨挂钩联动机制...   \n",
       "3  4  前三季度全国新增减税降费9101亿元——超九成企业对减负政策满意“今年前三季度，全国新增减税...   \n",
       "4  5  新华社酒泉11月23日电（李国利、奉青玲）11月23日7时45分，我国在酒泉卫星发射中心用长...   \n",
       "\n",
       "                                       标题          日期  \\\n",
       "0                      习近平对全军后勤工作会议作出重要指示  2021-11-23   \n",
       "1  国务院关于“十四五”对外贸易高质量发展规划的批复（国函〔2021〕112号）  2021-11-23   \n",
       "2                             织牢基本民生兜底保障网  2021-11-23   \n",
       "3                      前三季度全国新增减税降费9101亿元  2021-11-23   \n",
       "4                           我国成功发射高分三号02星  2021-11-23   \n",
       "\n",
       "                                                 url  \n",
       "0  http://www.gov.cn/xinwen/2021-11/23/content_56...  \n",
       "1  http://www.gov.cn/zhengce/content/2021-11/23/c...  \n",
       "2  http://www.gov.cn/zhengce/2021-11/23/content_5...  \n",
       "3  http://www.gov.cn/xinwen/2021-11/23/content_56...  \n",
       "4  http://www.gov.cn/xinwen/2021-11/23/content_56...  "
      ]
     },
     "execution_count": 168,
     "metadata": {},
     "output_type": "execute_result"
    }
   ],
   "source": [
    "#2021日期分布\n",
    "df_2021 = df[0:4236]\n",
    "df_2021.head()"
   ]
  },
  {
   "cell_type": "code",
   "execution_count": 176,
   "id": "96b15add",
   "metadata": {},
   "outputs": [
    {
     "data": {
      "text/plain": [
       "(4236, 5)"
      ]
     },
     "execution_count": 176,
     "metadata": {},
     "output_type": "execute_result"
    }
   ],
   "source": [
    "df_2021.shape"
   ]
  },
  {
   "cell_type": "code",
   "execution_count": 169,
   "id": "a82f15c3",
   "metadata": {},
   "outputs": [
    {
     "data": {
      "text/html": [
       "<div>\n",
       "<style scoped>\n",
       "    .dataframe tbody tr th:only-of-type {\n",
       "        vertical-align: middle;\n",
       "    }\n",
       "\n",
       "    .dataframe tbody tr th {\n",
       "        vertical-align: top;\n",
       "    }\n",
       "\n",
       "    .dataframe thead th {\n",
       "        text-align: right;\n",
       "    }\n",
       "</style>\n",
       "<table border=\"1\" class=\"dataframe\">\n",
       "  <thead>\n",
       "    <tr style=\"text-align: right;\">\n",
       "      <th></th>\n",
       "      <th>日期</th>\n",
       "    </tr>\n",
       "  </thead>\n",
       "  <tbody>\n",
       "    <tr>\n",
       "      <th>0</th>\n",
       "      <td>2021-01-01</td>\n",
       "    </tr>\n",
       "    <tr>\n",
       "      <th>1</th>\n",
       "      <td>2021-01-01</td>\n",
       "    </tr>\n",
       "    <tr>\n",
       "      <th>2</th>\n",
       "      <td>2021-01-01</td>\n",
       "    </tr>\n",
       "    <tr>\n",
       "      <th>3</th>\n",
       "      <td>2021-01-01</td>\n",
       "    </tr>\n",
       "    <tr>\n",
       "      <th>4</th>\n",
       "      <td>2021-01-01</td>\n",
       "    </tr>\n",
       "  </tbody>\n",
       "</table>\n",
       "</div>"
      ],
      "text/plain": [
       "           日期\n",
       "0  2021-01-01\n",
       "1  2021-01-01\n",
       "2  2021-01-01\n",
       "3  2021-01-01\n",
       "4  2021-01-01"
      ]
     },
     "execution_count": 169,
     "metadata": {},
     "output_type": "execute_result"
    }
   ],
   "source": [
    "date_2021 = sorted(df_2021['日期'])\n",
    "df_date_2021 = pd.DataFrame(date_2021,columns = ['日期'])\n",
    "df_date_2021.head()"
   ]
  },
  {
   "cell_type": "code",
   "execution_count": 175,
   "id": "2ff6cff6",
   "metadata": {},
   "outputs": [
    {
     "data": {
      "text/plain": [
       "日期        \n",
       "2021-01-01     7\n",
       "2021-01-02     6\n",
       "2021-01-03     7\n",
       "2021-01-04     8\n",
       "2021-01-05    14\n",
       "              ..\n",
       "2021-11-19    14\n",
       "2021-11-20     8\n",
       "2021-11-21     3\n",
       "2021-11-22    23\n",
       "2021-11-23     7\n",
       "Length: 327, dtype: int64"
      ]
     },
     "execution_count": 175,
     "metadata": {},
     "output_type": "execute_result"
    }
   ],
   "source": [
    "date_count_2021 = df_date_2021.value_counts(sort=False)\n",
    "date_count_2021.to_excel(r'count_2021.xlsx')\n",
    "date_count_2021 "
   ]
  },
  {
   "cell_type": "code",
   "execution_count": 171,
   "id": "b7af2711",
   "metadata": {
    "scrolled": true
   },
   "outputs": [
    {
     "data": {
      "text/plain": [
       "日期        \n",
       "2021-03-05    57\n",
       "2021-10-25    39\n",
       "2021-07-01    34\n",
       "2021-04-20    31\n",
       "2021-04-22    31\n",
       "              ..\n",
       "2021-03-21     3\n",
       "2021-07-04     3\n",
       "2021-04-18     2\n",
       "2021-08-29     1\n",
       "2021-02-16     1\n",
       "Length: 327, dtype: int64"
      ]
     },
     "execution_count": 171,
     "metadata": {},
     "output_type": "execute_result"
    }
   ],
   "source": [
    "df_date_2021.value_counts()\n"
   ]
  },
  {
   "cell_type": "code",
   "execution_count": 172,
   "id": "af6d40c3",
   "metadata": {},
   "outputs": [
    {
     "data": {
      "text/plain": [
       "<AxesSubplot:xlabel='日期'>"
      ]
     },
     "execution_count": 172,
     "metadata": {},
     "output_type": "execute_result"
    },
    {
     "data": {
      "image/png": "[encoded data removed]",
      "text/plain": [
       "<Figure size 2160x468 with 1 Axes>"
      ]
     },
     "metadata": {
      "needs_background": "light"
     },
     "output_type": "display_data"
    }
   ],
   "source": [
    "#一年内的分布特点:折线图展示\n",
    "plt.figure(figsize=(30, 6.5))\n",
    "date_count_2021 .plot(use_index=True,grid=True)"
   ]
  },
  {
   "cell_type": "markdown",
   "id": "ebfa6e95",
   "metadata": {},
   "source": [
    "## 分词 "
   ]
  },
  {
   "cell_type": "markdown",
   "id": "0b173dda",
   "metadata": {},
   "source": [
    "### jieba分词"
   ]
  },
  {
   "cell_type": "code",
   "execution_count": 131,
   "id": "34662020",
   "metadata": {},
   "outputs": [],
   "source": [
    "#jieba分词\n",
    "import jieba"
   ]
  },
  {
   "cell_type": "code",
   "execution_count": 132,
   "id": "e2cafb79",
   "metadata": {},
   "outputs": [
    {
     "data": {
      "text/plain": [
       "'国务院关于“十四五”对外贸易高质量发展规划的批复国函〔2021〕112号\\n各省、自治区、直辖市人民政府，商务部：商务部关于提请审批《“十四五”对外贸易高质量发展规划（送审稿）》的请示收悉。现批复如下：一、原则同意《“十四五”对外贸易高质量发展规划》（以下简称《规划》），请认真组织实施。二、《规划》实施要以习近平新时代中国特色社会主义思想为指导，深入贯彻党的十九大和十九届二中、三中、四中、五中全会精神，认真落实党中央、国务院决策部署，坚持稳中求进工作总基调，立足新发展阶段，完整、准确、全面贯彻新发展理念，构建新发展格局，以深化供给侧结构性改革为主线，以推进贸易高质量发展为主题，以贸易创新发展为动力，统筹贸易发展和安全，推动高水平对外开放，加快培育参与国际经济合作和竞争新优势，开创开放合作、包容普惠、共享共赢的国际贸易新局面，推动国内国际双循环互促共进，为开启全面建设社会主义现代化国家新征程和推动构建人类命运共同体作出新贡献。三、各省、自治区、直辖市人民政府要对照《规划》要求，加强组织领导，更好履行主体责任，把对外贸易高质量发展作为推动当地经济高质量发展的重要抓手，因地制宜细化工作方案，全面落实《规划》确定的目标和任务，确保各项政策措施落到实处、见到实效。四、国务院推进贸易高质量发展部际联席会议各成员单位、各有关部门和单位要根据职责分工，强化协调配合，积极服务对外贸易高质量发展，做好相关规划、年度计划与《规划》的衔接协调，完善配套措施，形成工作合力。商务部要切实承担国务院推进贸易高质量发展部际联席会议办公室职责，加强对《规划》落实的统筹协调，适时组织开展《规划》实施情况评估。重大事项及时向党中央、国务院报告。国务院2021年11月2日（此件公开发布）'"
      ]
     },
     "execution_count": 132,
     "metadata": {},
     "output_type": "execute_result"
    }
   ],
   "source": [
    "df['正文'][1]"
   ]
  },
  {
   "cell_type": "code",
   "execution_count": 135,
   "id": "ddcb02fc",
   "metadata": {
    "scrolled": false
   },
   "outputs": [
    {
     "name": "stdout",
     "output_type": "stream",
     "text": [
      "国务院/关于/“/十四五/”/对外贸易/高质量/发展规划/的/批复/国函/〔/2021/〕/112/号/\n",
      "/各省/、/自治区/、/直辖市/人民政府/，/商务部/：/商务部/关于/提请/审批/《/“/十四五/”/对外贸易/高质量/发展规划/（/送审稿/）/》/的/请示/收悉/。/现/批复/如下/：/一/、/原则同意/《/“/十四五/”/对外贸易/高质量/发展规划/》/（/以下简称/《/规划/》/）/，/请/认真/组织/实施/。/二/、/《/规划/》/实施/要/以/习近平新时代/中国/特色/社会主义/思想/为/指导/，/深入/贯彻/党/的/十九/大/和/十九/届/二中/、/三中/、/四中/、/五中全会/精神/，/认真落实/党中央/、/国务院/决策/部署/，/坚持/稳中求进/工作/总/基调/，/立足/新/发展阶段/，/完整/、/准确/、/全面/贯彻/新/发展/理念/，/构建/新/发展/格局/，/以/深化供给侧结构性改革/为主/线/，/以/推进/贸易/高质量/发展/为/主题/，/以/贸易/创新/发展/为/动力/，/统筹/贸易/发展/和/安全/，/推动/高水平/对外开放/，/加快/培育/参与/国际/经济/合作/和/竞争/新/优势/，/开创/开放/合作/、/包容/普惠/、/共享/共/赢/的/国际贸易/新/局面/，/推动/国内/国际/双循环/互促/共进/，/为/开启/全面/建设/社会主义/现代化/国家/新/征程/和/推动/构建/人类/命运/共同体/作出/新/贡献/。/三/、/各省/、/自治区/、/直辖市/人民政府/要/对照/《/规划/》/要求/，/加强/组织/领导/，/更好/履行/主体/责任/，/把/对外贸易/高质量/发展/作为/推动/当地/经济/高质量/发展/的/重要/抓手/，/因地制宜/细化/工作方案/，/全面落实/《/规划/》/确定/的/目标/和/任务/，/确保/各项政策/措施/落到实处/、/见到/实效/。/四/、/国务院/推进/贸易/高质量/发展/部际/联席会议/各/成员/单位/、/各/有关/部门/和/单位/要/根据/职责/分工/，/强化/协调/配合/，/积极/服务/对外贸易/高质量/发展/，/做好/相关/规划/、/年度计划/与/《/规划/》/的/衔接/协调/，/完善/配套措施/，/形成/工作/合力/。/商务部/要/切实/承担/国务院/推进/贸易/高质量/发展/部际/联席会议/办公室/职责/，/加强/对/《/规划/》/落实/的/统筹/协调/，/适时/组织/开展/《/规划/》/实施/情况/评估/。/重大/事项/及时/向/党中央/、/国务院/报告/。/国务院/2021/年/11/月/2/日/（/此件/公开/发布/）\n"
     ]
    }
   ],
   "source": [
    "seg_list = jieba.cut(df['正文'][1], cut_all=False)\n",
    "print(\"/\".join(seg_list))  # 精确模式"
   ]
  },
  {
   "cell_type": "markdown",
   "id": "7ed0dd74",
   "metadata": {},
   "source": [
    "### pkuseg分词"
   ]
  },
  {
   "cell_type": "code",
   "execution_count": 187,
   "id": "09e94ce2",
   "metadata": {},
   "outputs": [],
   "source": [
    "import pkuseg"
   ]
  },
  {
   "cell_type": "code",
   "execution_count": 206,
   "id": "d2dab7c9",
   "metadata": {},
   "outputs": [
    {
     "name": "stdout",
     "output_type": "stream",
     "text": [
      "['新华社', '酒泉', '11月', '23日', '电', '（', '李', '国利', '、', '奉青玲', '）', '11月', '23日', '7时', '45分', '，', '我国', '在', '酒泉', '卫星', '发射', '中心', '用', '长征', '四', '号', '丙', '运载火箭', '，', '成功', '将', '高', '分', '三', '号', '02星', '发射', '升空', '。', '卫星', '顺利', '进入', '预定', '轨道', '，', '发射', '任务', '获得', '圆满', '成功', '。', '此次', '任务', '是', '长征', '系列', '运载火箭', '的', '第398', '次', '飞行', '。']\n"
     ]
    }
   ],
   "source": [
    "seg = pkuseg.pkuseg()\n",
    "rst = seg.cut(df['正文'][4])\n",
    "print(rst)"
   ]
  },
  {
   "cell_type": "markdown",
   "id": "b87a1879",
   "metadata": {},
   "source": [
    "## 强化学习分词"
   ]
  },
  {
   "cell_type": "code",
   "execution_count": 261,
   "id": "99ed0d9c",
   "metadata": {},
   "outputs": [],
   "source": [
    "import pandas as pd\n",
    "import os\n",
    "import re\n",
    "import jieba\n",
    "import jieba.posseg as pseg\n",
    "import jieba.analyse\n",
    "import random\n",
    "from collections import Counter \n",
    "from pandas.core.frame import DataFrame\n",
    "from __future__ import print_function, unicode_literals\n",
    "import sys\n",
    "sys.path.append(\"../\")\n",
    "import jieba\n",
    "import jieba.posseg as pseg\n",
    "import pkuseg   \n",
    "import thulac"
   ]
  },
  {
   "cell_type": "code",
   "execution_count": 60,
   "id": "fa796db1",
   "metadata": {},
   "outputs": [],
   "source": [
    "#提取出正文内容\n",
    "df = pd.read_excel('C:/Users/LYN/Desktop/[20211203]项目进度/version3.xlsx')\n",
    "content = df['正文']"
   ]
  },
  {
   "cell_type": "code",
   "execution_count": 395,
   "id": "370fb70b",
   "metadata": {},
   "outputs": [],
   "source": [
    "#读取自定义字典\n",
    "dict = list(pd.read_csv('./dict/userdict.txt',chunksize=3))"
   ]
  },
  {
   "cell_type": "markdown",
   "id": "7cd3356a",
   "metadata": {},
   "source": [
    "### jieba分词"
   ]
  },
  {
   "cell_type": "code",
   "execution_count": 398,
   "id": "7072621e",
   "metadata": {},
   "outputs": [],
   "source": [
    "#导入包含有专有名词的自定义词库\n",
    "jieba.load_userdict(\"./dict/userdict.txt\") "
   ]
  },
  {
   "cell_type": "code",
   "execution_count": 402,
   "id": "5789e727",
   "metadata": {},
   "outputs": [],
   "source": [
    "def stopwordslist(filepath):\n",
    "    stopwords = [line.strip() for line in open(filepath, 'r').readlines()]\n",
    "    return stopwords\n",
    "\n",
    "def jieba_cut(text):\n",
    "    delect_num = []\n",
    "    words = ''\n",
    "    for i in text:\n",
    "        delect_num.append(re.sub('[a-zA-Z0-9]', \"\", i))\n",
    "    for i in delect_num:\n",
    "        words += i\n",
    "    sentence_seged = jieba.cut(words.strip())\n",
    "    print(sentence_seged)\n",
    "    stopwords = stopwordslist(r'C:/Users/LYN/Desktop/[20211203]项目进度/dict/ch_stop.txt')  # 这里加载停用词的路径\n",
    "    jieba_outstr = ''\n",
    "    for word in sentence_seged:\n",
    "        if word not in stopwords:\n",
    "            if word != '\\t' and word != '\\n':\n",
    "                jieba_outstr = jieba_outstr + \"'\" + word +\"’\" \n",
    "                jieba_outstr += \" ,\"  \n",
    "    return jieba_outstr\n"
   ]
  },
  {
   "cell_type": "code",
   "execution_count": 403,
   "id": "ce8cfcb4",
   "metadata": {},
   "outputs": [
    {
     "name": "stdout",
     "output_type": "stream",
     "text": [
      "<generator object Tokenizer.cut at 0x0000015B4005E4A0>\n"
     ]
    },
    {
     "data": {
      "text/plain": [
       "\"'新华社’ ,'北京’ ,'日电’ ,' ’ ,'日’ ,'国家’ ,'主席’ ,'习近平’ ,'第四届’ ,'世界’ ,'媒体’ ,'峰会’ ,'贺信’ ,'习近平’ ,'强调’ ,'当前’ ,'世界’ ,'百年’ ,'未有’ ,'大变局’ ,'新冠肺炎’ ,'疫情’ ,'全球’ ,'流行’ ,'相互交织’ ,'影响’ ,'国际’ ,'格局’ ,'演变’ ,'深刻’ ,'复杂’ ,'正确’ ,'回答’ ,'时代’ ,'课题’ ,'广泛’ ,'凝聚’ ,'世界’ ,'共识’ ,'媒体’ ,'肩负着’ ,'重要’ ,'社会’ ,'责任’ ,'希望’ ,'参会’ ,'嘉宾’ ,'围绕’ ,'峰会’ ,'主题’ ,'深入探讨’ ,'增进’ ,'共识’ ,'努力’ ,'做’ ,'民心’ ,'相通’ ,'传播者’ ,'人文’ ,'交流’ ,'促进’ ,'弘扬’ ,'全人类’ ,'共同’ ,'价值’ ,'推动’ ,'构建’ ,'人类’ ,'命运’ ,'共同体’ ,'作出’ ,'应有’ ,'贡献’ ,'第四届’ ,'世界’ ,'媒体’ ,'峰会’ ,'当日’ ,'北京’ ,'开幕’ ,'主题’ ,'疫情’ ,'冲击’ ,'媒体’ ,'发展战略’ ,'新华社’ ,'主办’ ,\""
      ]
     },
     "execution_count": 403,
     "metadata": {},
     "output_type": "execute_result"
    }
   ],
   "source": [
    "jieba_cut(content[9])"
   ]
  },
  {
   "cell_type": "markdown",
   "id": "bd8d7c82",
   "metadata": {},
   "source": [
    "### pkuseg分词 "
   ]
  },
  {
   "cell_type": "code",
   "execution_count": 218,
   "id": "1471e7ce",
   "metadata": {},
   "outputs": [],
   "source": [
    "seg = pkuseg.pkuseg(user_dict = \"./dict/userdict.txt\")#自定义词典"
   ]
  },
  {
   "cell_type": "code",
   "execution_count": 309,
   "id": "b6eb13ad",
   "metadata": {},
   "outputs": [],
   "source": [
    "def pkuseg_cut(text):\n",
    "    delect_num = []\n",
    "    words = ''\n",
    "    for i in text:\n",
    "         delect_num.append(re.sub('[a-zA-Z0-9]', \"\", i))#去掉文章中的字母和数字\n",
    "    for i in delect_num:\n",
    "        words += i\n",
    "    #seg = pkuseg.pkuseg(user_dict=lexicon)#使用自定义词典\n",
    "    sentence_seged = seg.cut(words.strip())\n",
    "    stopwords = stopwordslist(r'C:/Users/LYN/Desktop/[20211203]项目进度/dict/ch_stop.txt')  # 这里加载停用词的路径\n",
    "    pkuseg_outstr = ''\n",
    "    for word in sentence_seged:\n",
    "        if word not in stopwords:\n",
    "            if word != '\\t' and word != '\\n':\n",
    "                pkuseg_outstr = pkuseg_outstr + \"'\" + word +\"'\" \n",
    "                pkuseg_outstr += \" ,\"  \n",
    "    return pkuseg_outstr"
   ]
  },
  {
   "cell_type": "code",
   "execution_count": 307,
   "id": "32a9276d",
   "metadata": {},
   "outputs": [
    {
     "data": {
      "text/plain": [
       "'新华社北京11月22日电 11月22日，国家主席习近平向第四届世界媒体峰会致贺信。习近平强调，当前，世界百年未有之大变局和新冠肺炎疫情全球大流行相互交织、彼此影响，国际格局演变深刻复杂。如何正确回答时代课题，广泛凝聚世界共识，媒体肩负着重要社会责任。希望参会嘉宾围绕峰会主题深入探讨、增进共识，努力做民心相通的传播者、人文交流的促进者，为弘扬全人类共同价值、推动构建人类命运共同体作出应有贡献。第四届世界媒体峰会当日在北京开幕，主题为“疫情冲击下的媒体发展战略”，由新华社主办。'"
      ]
     },
     "execution_count": 307,
     "metadata": {},
     "output_type": "execute_result"
    }
   ],
   "source": [
    "content[9]"
   ]
  },
  {
   "cell_type": "code",
   "execution_count": 299,
   "id": "d23cd9b6",
   "metadata": {},
   "outputs": [],
   "source": [
    "pku_cut = list(map(pkuseg_cut, content[:100]))"
   ]
  },
  {
   "cell_type": "code",
   "execution_count": 310,
   "id": "a56b800b",
   "metadata": {},
   "outputs": [
    {
     "data": {
      "text/plain": [
       "\"'新华社' ,'北京' ,'月日' ,'电' ,'月日' ,'国家' ,'主席' ,'习近平' ,'第四' ,'届' ,'世界' ,'媒体' ,'峰会' ,'贺信' ,'习近平' ,'强调' ,'当前' ,'世界' ,'百年' ,'未' ,'变局' ,'新冠' ,'肺炎' ,'疫情' ,'全球' ,'流行' ,'相互' ,'交织' ,'影响' ,'国际' ,'格局' ,'演变' ,'深刻' ,'复杂' ,'正确' ,'回答' ,'时代' ,'课题' ,'广泛' ,'凝聚' ,'世界' ,'共识' ,'媒体' ,'肩负' ,'重要' ,'社会' ,'责任' ,'希望' ,'参会' ,'嘉宾' ,'围绕' ,'峰会' ,'主题' ,'深入' ,'探讨' ,'增进' ,'共识' ,'努力' ,'做' ,'民心' ,'相通' ,'传播者' ,'人文' ,'交流' ,'促进' ,'弘扬' ,'全人类' ,'共同' ,'价值' ,'推动' ,'构建' ,'人类' ,'命运' ,'共同体' ,'作出' ,'应有' ,'贡献' ,'第四' ,'届' ,'世界' ,'媒体' ,'峰会' ,'当日' ,'北京' ,'开幕' ,'主题' ,'疫情' ,'冲击' ,'媒体' ,'发展战略' ,'新华社' ,'主办' ,\""
      ]
     },
     "execution_count": 310,
     "metadata": {},
     "output_type": "execute_result"
    }
   ],
   "source": [
    "pkuseg_cut(content[9])"
   ]
  },
  {
   "cell_type": "markdown",
   "id": "de172a94",
   "metadata": {},
   "source": [
    "## 词云绘制"
   ]
  },
  {
   "cell_type": "code",
   "execution_count": 84,
   "id": "7502099d",
   "metadata": {},
   "outputs": [],
   "source": [
    "import wordcloud\n",
    "import matplotlib.pyplot as plt"
   ]
  },
  {
   "cell_type": "code",
   "execution_count": 85,
   "id": "3f46d93b",
   "metadata": {},
   "outputs": [],
   "source": [
    "def jieba_words(data): #返回列表中所有文档的分词与对应词频\n",
    "    words_freq = {}\n",
    "    for i in data:\n",
    "        splitset_after_cut = jieba_get_cut(i)\n",
    "        word_dic = {} # 存储每篇文档词频统计结果\n",
    "        for k in splitset_after_cut:\n",
    "            word_dic.setdefault(k,0) \n",
    "            word_dic[k] += 1\n",
    "        words_freq.update(word_dic) \n",
    "    return words_freq"
   ]
  },
  {
   "cell_type": "code",
   "execution_count": 422,
   "id": "7b8dffc8",
   "metadata": {},
   "outputs": [],
   "source": [
    "content_all = \"\".join(str(list(content)))\n",
    "#cut_content_all = jieba_cut(content_all)"
   ]
  },
  {
   "cell_type": "code",
   "execution_count": 448,
   "id": "e040f9f6",
   "metadata": {},
   "outputs": [],
   "source": [
    "def jieba_cut_new(text):\n",
    "    delect_num = []\n",
    "    words = ''\n",
    "    for i in text:\n",
    "        delect_num.append(re.sub('[a-zA-Z0-9]', \"\", i))\n",
    "    for i in delect_num:\n",
    "        words += i\n",
    "    sentence_seged = jieba.cut(words.strip())\n",
    "    print(sentence_seged)\n",
    "    stopwords = stopwordslist(r'C:/Users/LYN/Desktop/[20211203]项目进度/dict/ch_stop.txt')  # 这里加载停用词的路径\n",
    "    jieba_outstr = ''\n",
    "    for word in sentence_seged:\n",
    "        if word not in stopwords:\n",
    "            if word != '\\t' and word != '\\n':\n",
    "                jieba_outstr = jieba_outstr + word \n",
    "                jieba_outstr += \",\"  \n",
    "    return jieba_outstr"
   ]
  },
  {
   "cell_type": "code",
   "execution_count": 449,
   "id": "eef1b842",
   "metadata": {},
   "outputs": [
    {
     "name": "stdout",
     "output_type": "stream",
     "text": [
      "<generator object Tokenizer.cut at 0x0000015B6FABC0B0>\n",
      "<generator object Tokenizer.cut at 0x0000015B9EFEEEB0>\n",
      "<generator object Tokenizer.cut at 0x0000015B9EFEEEB0>\n",
      "<generator object Tokenizer.cut at 0x0000015B9EFEEEB0>\n",
      "<generator object Tokenizer.cut at 0x0000015B9EFEEEB0>\n",
      "<generator object Tokenizer.cut at 0x0000015B9EFEEEB0>\n",
      "<generator object Tokenizer.cut at 0x0000015B9EFEEEB0>\n",
      "<generator object Tokenizer.cut at 0x0000015B9EFEEEB0>\n",
      "<generator object Tokenizer.cut at 0x0000015B9EFEEEB0>\n",
      "<generator object Tokenizer.cut at 0x0000015B9EFEEEB0>\n",
      "<generator object Tokenizer.cut at 0x0000015B9EFEEEB0>\n",
      "<generator object Tokenizer.cut at 0x0000015B9EFEEEB0>\n",
      "<generator object Tokenizer.cut at 0x0000015B9EFEEEB0>\n",
      "<generator object Tokenizer.cut at 0x0000015B9EFEEEB0>\n",
      "<generator object Tokenizer.cut at 0x0000015B9EFEEEB0>\n",
      "<generator object Tokenizer.cut at 0x0000015B9EFEEEB0>\n",
      "<generator object Tokenizer.cut at 0x0000015B9EFEEEB0>\n",
      "<generator object Tokenizer.cut at 0x0000015B9EFEEEB0>\n",
      "<generator object Tokenizer.cut at 0x0000015B9EFEEEB0>\n",
      "<generator object Tokenizer.cut at 0x0000015B9EFEEEB0>\n",
      "<generator object Tokenizer.cut at 0x0000015B9EFEEEB0>\n",
      "<generator object Tokenizer.cut at 0x0000015B9EFEEEB0>\n",
      "<generator object Tokenizer.cut at 0x0000015B9EFEEEB0>\n",
      "<generator object Tokenizer.cut at 0x0000015B9EFEEEB0>\n",
      "<generator object Tokenizer.cut at 0x0000015B9EFEEEB0>\n",
      "<generator object Tokenizer.cut at 0x0000015B9EFEEEB0>\n",
      "<generator object Tokenizer.cut at 0x0000015B9EFEEEB0>\n",
      "<generator object Tokenizer.cut at 0x0000015B9EFEEEB0>\n",
      "<generator object Tokenizer.cut at 0x0000015B9EFEEEB0>\n",
      "<generator object Tokenizer.cut at 0x0000015B9EFEEEB0>\n",
      "<generator object Tokenizer.cut at 0x0000015B9EFEEEB0>\n",
      "<generator object Tokenizer.cut at 0x0000015B9EFEEEB0>\n",
      "<generator object Tokenizer.cut at 0x0000015B9EFEEEB0>\n",
      "<generator object Tokenizer.cut at 0x0000015B9EFEEEB0>\n",
      "<generator object Tokenizer.cut at 0x0000015B9EFEEEB0>\n",
      "<generator object Tokenizer.cut at 0x0000015B9EFEEEB0>\n",
      "<generator object Tokenizer.cut at 0x0000015B9EFEEEB0>\n",
      "<generator object Tokenizer.cut at 0x0000015B9EFEEEB0>\n",
      "<generator object Tokenizer.cut at 0x0000015B9EFEEEB0>\n",
      "<generator object Tokenizer.cut at 0x0000015B9EFEEEB0>\n",
      "<generator object Tokenizer.cut at 0x0000015B9EFEEEB0>\n",
      "<generator object Tokenizer.cut at 0x0000015B9EFEEEB0>\n",
      "<generator object Tokenizer.cut at 0x0000015B9EFEEEB0>\n",
      "<generator object Tokenizer.cut at 0x0000015B9EFEEEB0>\n",
      "<generator object Tokenizer.cut at 0x0000015B9EFEEEB0>\n",
      "<generator object Tokenizer.cut at 0x0000015B9EFEEEB0>\n",
      "<generator object Tokenizer.cut at 0x0000015B9EFEEEB0>\n",
      "<generator object Tokenizer.cut at 0x0000015B9EFEEEB0>\n",
      "<generator object Tokenizer.cut at 0x0000015B9EFEEEB0>\n",
      "<generator object Tokenizer.cut at 0x0000015B9EFEEEB0>\n",
      "<generator object Tokenizer.cut at 0x0000015B9EFEEEB0>\n",
      "<generator object Tokenizer.cut at 0x0000015B9EFEEEB0>\n",
      "<generator object Tokenizer.cut at 0x0000015B9EFEEEB0>\n",
      "<generator object Tokenizer.cut at 0x0000015B9EFEEEB0>\n",
      "<generator object Tokenizer.cut at 0x0000015B9EFEEEB0>\n",
      "<generator object Tokenizer.cut at 0x0000015B9EFEEEB0>\n",
      "<generator object Tokenizer.cut at 0x0000015B9EFEEEB0>\n",
      "<generator object Tokenizer.cut at 0x0000015B9EFEEEB0>\n",
      "<generator object Tokenizer.cut at 0x0000015B9EFEEEB0>\n",
      "<generator object Tokenizer.cut at 0x0000015B9EFEEEB0>\n",
      "<generator object Tokenizer.cut at 0x0000015B9EFEEEB0>\n",
      "<generator object Tokenizer.cut at 0x0000015B9EFEEEB0>\n",
      "<generator object Tokenizer.cut at 0x0000015B9EFEEEB0>\n",
      "<generator object Tokenizer.cut at 0x0000015B9EFEEEB0>\n",
      "<generator object Tokenizer.cut at 0x0000015B9EFEEEB0>\n",
      "<generator object Tokenizer.cut at 0x0000015B9EFEEEB0>\n",
      "<generator object Tokenizer.cut at 0x0000015B9EFEEEB0>\n",
      "<generator object Tokenizer.cut at 0x0000015B9EFEEEB0>\n",
      "<generator object Tokenizer.cut at 0x0000015B9EFEEEB0>\n",
      "<generator object Tokenizer.cut at 0x0000015B9EFEEEB0>\n",
      "<generator object Tokenizer.cut at 0x0000015B9EFEEEB0>\n",
      "<generator object Tokenizer.cut at 0x0000015B9EFEEEB0>\n",
      "<generator object Tokenizer.cut at 0x0000015B9EFEEEB0>\n",
      "<generator object Tokenizer.cut at 0x0000015B9EFEEEB0>\n",
      "<generator object Tokenizer.cut at 0x0000015B9EFEEEB0>\n",
      "<generator object Tokenizer.cut at 0x0000015B9EFEEEB0>\n",
      "<generator object Tokenizer.cut at 0x0000015B9EFEEEB0>\n",
      "<generator object Tokenizer.cut at 0x0000015B9EFEEEB0>\n",
      "<generator object Tokenizer.cut at 0x0000015B9EFEEEB0>\n",
      "<generator object Tokenizer.cut at 0x0000015B9EFEEEB0>\n",
      "<generator object Tokenizer.cut at 0x0000015B9EFEEEB0>\n",
      "<generator object Tokenizer.cut at 0x0000015B9EFEEEB0>\n",
      "<generator object Tokenizer.cut at 0x0000015B9EFEEEB0>\n",
      "<generator object Tokenizer.cut at 0x0000015B9EFEEEB0>\n",
      "<generator object Tokenizer.cut at 0x0000015B9EFEEEB0>\n",
      "<generator object Tokenizer.cut at 0x0000015B9EFEEEB0>\n",
      "<generator object Tokenizer.cut at 0x0000015B9EFEEEB0>\n",
      "<generator object Tokenizer.cut at 0x0000015B9EFEEEB0>\n",
      "<generator object Tokenizer.cut at 0x0000015B9EFEEEB0>\n",
      "<generator object Tokenizer.cut at 0x0000015B9EFEEEB0>\n",
      "<generator object Tokenizer.cut at 0x0000015B9EFEEEB0>\n",
      "<generator object Tokenizer.cut at 0x0000015B9EFEEEB0>\n",
      "<generator object Tokenizer.cut at 0x0000015B9EFEEEB0>\n",
      "<generator object Tokenizer.cut at 0x0000015B9EFEEEB0>\n",
      "<generator object Tokenizer.cut at 0x0000015B9EFEEEB0>\n",
      "<generator object Tokenizer.cut at 0x0000015B9EFEEEB0>\n",
      "<generator object Tokenizer.cut at 0x0000015B9EFEEEB0>\n",
      "<generator object Tokenizer.cut at 0x0000015B9EFEEEB0>\n",
      "<generator object Tokenizer.cut at 0x0000015B9EFEEEB0>\n",
      "<generator object Tokenizer.cut at 0x0000015B9EFEEEB0>\n",
      "<generator object Tokenizer.cut at 0x0000015B9EFEEEB0>\n",
      "<generator object Tokenizer.cut at 0x0000015B9EFEEEB0>\n",
      "<generator object Tokenizer.cut at 0x0000015B9EFEEEB0>\n",
      "<generator object Tokenizer.cut at 0x0000015B9EFEEEB0>\n",
      "<generator object Tokenizer.cut at 0x0000015B9EFEEEB0>\n",
      "<generator object Tokenizer.cut at 0x0000015B9EFEEEB0>\n",
      "<generator object Tokenizer.cut at 0x0000015B9EFEEEB0>\n",
      "<generator object Tokenizer.cut at 0x0000015B9EFEEEB0>\n",
      "<generator object Tokenizer.cut at 0x0000015B9EFEEEB0>\n",
      "<generator object Tokenizer.cut at 0x0000015B9EFEEEB0>\n",
      "<generator object Tokenizer.cut at 0x0000015B9EFEEEB0>\n",
      "<generator object Tokenizer.cut at 0x0000015B9EFEEEB0>\n",
      "<generator object Tokenizer.cut at 0x0000015B9EFEEEB0>\n",
      "<generator object Tokenizer.cut at 0x0000015B9EFEEEB0>\n",
      "<generator object Tokenizer.cut at 0x0000015B9EFEEEB0>\n",
      "<generator object Tokenizer.cut at 0x0000015B9EFEEEB0>\n",
      "<generator object Tokenizer.cut at 0x0000015B9EFEEEB0>\n",
      "<generator object Tokenizer.cut at 0x0000015B9EFEEEB0>\n",
      "<generator object Tokenizer.cut at 0x0000015B9EFEEEB0>\n",
      "<generator object Tokenizer.cut at 0x0000015B9EFEEEB0>\n",
      "<generator object Tokenizer.cut at 0x0000015B9EFEEEB0>\n",
      "<generator object Tokenizer.cut at 0x0000015B9EFEEEB0>\n",
      "<generator object Tokenizer.cut at 0x0000015B9EFEEEB0>\n",
      "<generator object Tokenizer.cut at 0x0000015B9EFEEEB0>\n",
      "<generator object Tokenizer.cut at 0x0000015B9EFEEEB0>\n",
      "<generator object Tokenizer.cut at 0x0000015B9EFEEEB0>\n",
      "<generator object Tokenizer.cut at 0x0000015B9EFEEEB0>\n",
      "<generator object Tokenizer.cut at 0x0000015B9EFEEEB0>\n",
      "<generator object Tokenizer.cut at 0x0000015B9EFEEEB0>\n",
      "<generator object Tokenizer.cut at 0x0000015B9EFEEEB0>\n",
      "<generator object Tokenizer.cut at 0x0000015B9EFEEEB0>\n",
      "<generator object Tokenizer.cut at 0x0000015B9EFEEEB0>\n",
      "<generator object Tokenizer.cut at 0x0000015B9EFEEEB0>\n",
      "<generator object Tokenizer.cut at 0x0000015B9EFEEEB0>\n",
      "<generator object Tokenizer.cut at 0x0000015B9EFEEEB0>\n",
      "<generator object Tokenizer.cut at 0x0000015B9EFEEEB0>\n",
      "<generator object Tokenizer.cut at 0x0000015B9EFEEEB0>\n",
      "<generator object Tokenizer.cut at 0x0000015B9EFEEEB0>\n",
      "<generator object Tokenizer.cut at 0x0000015B9EFEEEB0>\n",
      "<generator object Tokenizer.cut at 0x0000015B9EFEEEB0>\n",
      "<generator object Tokenizer.cut at 0x0000015B9EFEEEB0>\n",
      "<generator object Tokenizer.cut at 0x0000015B9EFEEEB0>\n",
      "<generator object Tokenizer.cut at 0x0000015B9EFEEEB0>\n",
      "<generator object Tokenizer.cut at 0x0000015B9EFEEEB0>\n",
      "<generator object Tokenizer.cut at 0x0000015B9EFEEEB0>\n",
      "<generator object Tokenizer.cut at 0x0000015B9EFEEEB0>\n",
      "<generator object Tokenizer.cut at 0x0000015B9EFEEEB0>\n",
      "<generator object Tokenizer.cut at 0x0000015B9EFEEEB0>\n",
      "<generator object Tokenizer.cut at 0x0000015B9EFEEEB0>\n",
      "<generator object Tokenizer.cut at 0x0000015B9EFEEEB0>\n",
      "<generator object Tokenizer.cut at 0x0000015B9EFEEEB0>\n",
      "<generator object Tokenizer.cut at 0x0000015B9EFEEEB0>\n",
      "<generator object Tokenizer.cut at 0x0000015B9EFEEEB0>\n",
      "<generator object Tokenizer.cut at 0x0000015B9EFEEEB0>\n",
      "<generator object Tokenizer.cut at 0x0000015B9EFEEEB0>\n"
     ]
    },
    {
     "name": "stdout",
     "output_type": "stream",
     "text": [
      "<generator object Tokenizer.cut at 0x0000015B9EFEEEB0>\n",
      "<generator object Tokenizer.cut at 0x0000015B9EFEEEB0>\n",
      "<generator object Tokenizer.cut at 0x0000015B9EFEEEB0>\n",
      "<generator object Tokenizer.cut at 0x0000015B9EFEEEB0>\n",
      "<generator object Tokenizer.cut at 0x0000015B9EFEEEB0>\n",
      "<generator object Tokenizer.cut at 0x0000015B9EFEEEB0>\n",
      "<generator object Tokenizer.cut at 0x0000015B9EFEEEB0>\n",
      "<generator object Tokenizer.cut at 0x0000015B9EFEEEB0>\n",
      "<generator object Tokenizer.cut at 0x0000015B9EFEEEB0>\n",
      "<generator object Tokenizer.cut at 0x0000015B9EFEEEB0>\n",
      "<generator object Tokenizer.cut at 0x0000015B9EFEEEB0>\n",
      "<generator object Tokenizer.cut at 0x0000015B9EFEEEB0>\n",
      "<generator object Tokenizer.cut at 0x0000015B9EFEEEB0>\n",
      "<generator object Tokenizer.cut at 0x0000015B9EFEEEB0>\n",
      "<generator object Tokenizer.cut at 0x0000015B9EFEEEB0>\n",
      "<generator object Tokenizer.cut at 0x0000015B9EFEEEB0>\n",
      "<generator object Tokenizer.cut at 0x0000015B9EFEEEB0>\n",
      "<generator object Tokenizer.cut at 0x0000015B9EFEEEB0>\n",
      "<generator object Tokenizer.cut at 0x0000015B9EFEEEB0>\n",
      "<generator object Tokenizer.cut at 0x0000015B9EFEEEB0>\n",
      "<generator object Tokenizer.cut at 0x0000015B9EFEEEB0>\n",
      "<generator object Tokenizer.cut at 0x0000015B9EFEEEB0>\n",
      "<generator object Tokenizer.cut at 0x0000015B9EFEEEB0>\n",
      "<generator object Tokenizer.cut at 0x0000015B9EFEEEB0>\n",
      "<generator object Tokenizer.cut at 0x0000015B9EFEEEB0>\n",
      "<generator object Tokenizer.cut at 0x0000015B9EFEEEB0>\n",
      "<generator object Tokenizer.cut at 0x0000015B9EFEEEB0>\n",
      "<generator object Tokenizer.cut at 0x0000015B9EFEEEB0>\n",
      "<generator object Tokenizer.cut at 0x0000015B9EFEEEB0>\n",
      "<generator object Tokenizer.cut at 0x0000015B9EFEEEB0>\n",
      "<generator object Tokenizer.cut at 0x0000015B9EFEEEB0>\n",
      "<generator object Tokenizer.cut at 0x0000015B9EFEEEB0>\n",
      "<generator object Tokenizer.cut at 0x0000015B9EFEEEB0>\n",
      "<generator object Tokenizer.cut at 0x0000015B9EFEEEB0>\n",
      "<generator object Tokenizer.cut at 0x0000015B9EFEEEB0>\n",
      "<generator object Tokenizer.cut at 0x0000015B9EFEEEB0>\n",
      "<generator object Tokenizer.cut at 0x0000015B9EFEEEB0>\n",
      "<generator object Tokenizer.cut at 0x0000015B9EFEEEB0>\n",
      "<generator object Tokenizer.cut at 0x0000015B9EFEEEB0>\n",
      "<generator object Tokenizer.cut at 0x0000015B9EFEEEB0>\n",
      "<generator object Tokenizer.cut at 0x0000015B9EFEEEB0>\n",
      "<generator object Tokenizer.cut at 0x0000015B9EFEEEB0>\n",
      "<generator object Tokenizer.cut at 0x0000015B9EFEEEB0>\n",
      "<generator object Tokenizer.cut at 0x0000015B9EFEEEB0>\n",
      "<generator object Tokenizer.cut at 0x0000015B9EFEEEB0>\n",
      "<generator object Tokenizer.cut at 0x0000015B9EFEEEB0>\n",
      "<generator object Tokenizer.cut at 0x0000015B9EFEEEB0>\n",
      "<generator object Tokenizer.cut at 0x0000015B9EFEEEB0>\n",
      "<generator object Tokenizer.cut at 0x0000015B9EFEEEB0>\n",
      "<generator object Tokenizer.cut at 0x0000015B9EFEEEB0>\n",
      "<generator object Tokenizer.cut at 0x0000015B9EFEEEB0>\n",
      "<generator object Tokenizer.cut at 0x0000015B9EFEEEB0>\n",
      "<generator object Tokenizer.cut at 0x0000015B9EFEEEB0>\n",
      "<generator object Tokenizer.cut at 0x0000015B9EFEEEB0>\n",
      "<generator object Tokenizer.cut at 0x0000015B9EFEEEB0>\n",
      "<generator object Tokenizer.cut at 0x0000015B9EFEEEB0>\n",
      "<generator object Tokenizer.cut at 0x0000015B9EFEEEB0>\n",
      "<generator object Tokenizer.cut at 0x0000015B9EFEEEB0>\n",
      "<generator object Tokenizer.cut at 0x0000015B9EFEEEB0>\n",
      "<generator object Tokenizer.cut at 0x0000015B9EFEEEB0>\n",
      "<generator object Tokenizer.cut at 0x0000015B9EFEEEB0>\n",
      "<generator object Tokenizer.cut at 0x0000015B9EFEEEB0>\n",
      "<generator object Tokenizer.cut at 0x0000015B9EFEEEB0>\n",
      "<generator object Tokenizer.cut at 0x0000015B9EFEEEB0>\n",
      "<generator object Tokenizer.cut at 0x0000015B9EFEEEB0>\n",
      "<generator object Tokenizer.cut at 0x0000015B9EFEEEB0>\n",
      "<generator object Tokenizer.cut at 0x0000015B9EFEEEB0>\n",
      "<generator object Tokenizer.cut at 0x0000015B9EFEEEB0>\n",
      "<generator object Tokenizer.cut at 0x0000015B9EFEEEB0>\n",
      "<generator object Tokenizer.cut at 0x0000015B9EFEEEB0>\n",
      "<generator object Tokenizer.cut at 0x0000015B9EFEEEB0>\n",
      "<generator object Tokenizer.cut at 0x0000015B9EFEEEB0>\n",
      "<generator object Tokenizer.cut at 0x0000015B9EFEEEB0>\n",
      "<generator object Tokenizer.cut at 0x0000015B9EFEEEB0>\n",
      "<generator object Tokenizer.cut at 0x0000015B9EFEEEB0>\n",
      "<generator object Tokenizer.cut at 0x0000015B9EFEEEB0>\n",
      "<generator object Tokenizer.cut at 0x0000015B9EFEEEB0>\n",
      "<generator object Tokenizer.cut at 0x0000015B9EFEEEB0>\n",
      "<generator object Tokenizer.cut at 0x0000015B9EFEEEB0>\n",
      "<generator object Tokenizer.cut at 0x0000015B9EFEEEB0>\n",
      "<generator object Tokenizer.cut at 0x0000015B9EFEEEB0>\n",
      "<generator object Tokenizer.cut at 0x0000015B9EFEEEB0>\n",
      "<generator object Tokenizer.cut at 0x0000015B9EFEEEB0>\n",
      "<generator object Tokenizer.cut at 0x0000015B9EFEEEB0>\n",
      "<generator object Tokenizer.cut at 0x0000015B9EFEEEB0>\n",
      "<generator object Tokenizer.cut at 0x0000015B9EFEEEB0>\n",
      "<generator object Tokenizer.cut at 0x0000015B9EFEEEB0>\n",
      "<generator object Tokenizer.cut at 0x0000015B9EFEEEB0>\n",
      "<generator object Tokenizer.cut at 0x0000015B9EFEEEB0>\n",
      "<generator object Tokenizer.cut at 0x0000015B9EFEEEB0>\n",
      "<generator object Tokenizer.cut at 0x0000015B9EFEEEB0>\n",
      "<generator object Tokenizer.cut at 0x0000015B9EFEEEB0>\n",
      "<generator object Tokenizer.cut at 0x0000015B9EFEEEB0>\n",
      "<generator object Tokenizer.cut at 0x0000015B9EFEEEB0>\n",
      "<generator object Tokenizer.cut at 0x0000015B9EFEEEB0>\n",
      "<generator object Tokenizer.cut at 0x0000015B9EFEEEB0>\n",
      "<generator object Tokenizer.cut at 0x0000015B9EFEEEB0>\n",
      "<generator object Tokenizer.cut at 0x0000015B9EFEEEB0>\n",
      "<generator object Tokenizer.cut at 0x0000015B9EFEEEB0>\n",
      "<generator object Tokenizer.cut at 0x0000015B9EFEEEB0>\n",
      "<generator object Tokenizer.cut at 0x0000015B9EFEEEB0>\n",
      "<generator object Tokenizer.cut at 0x0000015B9EFEEEB0>\n",
      "<generator object Tokenizer.cut at 0x0000015B9EFEEEB0>\n",
      "<generator object Tokenizer.cut at 0x0000015B9EFEEEB0>\n",
      "<generator object Tokenizer.cut at 0x0000015B9EFEEEB0>\n",
      "<generator object Tokenizer.cut at 0x0000015B9EFEEEB0>\n",
      "<generator object Tokenizer.cut at 0x0000015B9EFEEEB0>\n",
      "<generator object Tokenizer.cut at 0x0000015B9EFEEEB0>\n",
      "<generator object Tokenizer.cut at 0x0000015B9EFEEEB0>\n",
      "<generator object Tokenizer.cut at 0x0000015B9EFEEEB0>\n",
      "<generator object Tokenizer.cut at 0x0000015B9EFEEEB0>\n",
      "<generator object Tokenizer.cut at 0x0000015B9EFEEEB0>\n",
      "<generator object Tokenizer.cut at 0x0000015B9EFEEEB0>\n",
      "<generator object Tokenizer.cut at 0x0000015B9EFEEEB0>\n",
      "<generator object Tokenizer.cut at 0x0000015B9EFEEEB0>\n",
      "<generator object Tokenizer.cut at 0x0000015B9EFEEEB0>\n",
      "<generator object Tokenizer.cut at 0x0000015B9EFEEEB0>\n",
      "<generator object Tokenizer.cut at 0x0000015B9EFEEEB0>\n",
      "<generator object Tokenizer.cut at 0x0000015B9EFEEEB0>\n",
      "<generator object Tokenizer.cut at 0x0000015B9EFEEEB0>\n",
      "<generator object Tokenizer.cut at 0x0000015B9EFEEEB0>\n",
      "<generator object Tokenizer.cut at 0x0000015B9EFEEEB0>\n",
      "<generator object Tokenizer.cut at 0x0000015B9EFEEEB0>\n",
      "<generator object Tokenizer.cut at 0x0000015B9EFEEEB0>\n",
      "<generator object Tokenizer.cut at 0x0000015B9EFEEEB0>\n",
      "<generator object Tokenizer.cut at 0x0000015B9EFEEEB0>\n",
      "<generator object Tokenizer.cut at 0x0000015B9EFEEEB0>\n",
      "<generator object Tokenizer.cut at 0x0000015B9EFEEEB0>\n",
      "<generator object Tokenizer.cut at 0x0000015B9EFEEEB0>\n",
      "<generator object Tokenizer.cut at 0x0000015B9EFEEEB0>\n",
      "<generator object Tokenizer.cut at 0x0000015B9EFEEEB0>\n",
      "<generator object Tokenizer.cut at 0x0000015B9EFEEEB0>\n",
      "<generator object Tokenizer.cut at 0x0000015B9EFEEEB0>\n",
      "<generator object Tokenizer.cut at 0x0000015B9EFEEEB0>\n",
      "<generator object Tokenizer.cut at 0x0000015B9EFEEEB0>\n",
      "<generator object Tokenizer.cut at 0x0000015B9EFEEEB0>\n",
      "<generator object Tokenizer.cut at 0x0000015B9EFEEEB0>\n",
      "<generator object Tokenizer.cut at 0x0000015B9EFEEEB0>\n",
      "<generator object Tokenizer.cut at 0x0000015B9EFEEEB0>\n",
      "<generator object Tokenizer.cut at 0x0000015B9EFEEEB0>\n",
      "<generator object Tokenizer.cut at 0x0000015B9EFEEEB0>\n",
      "<generator object Tokenizer.cut at 0x0000015B9EFEEEB0>\n",
      "<generator object Tokenizer.cut at 0x0000015B9EFEEEB0>\n",
      "<generator object Tokenizer.cut at 0x0000015B9EFEEEB0>\n",
      "<generator object Tokenizer.cut at 0x0000015B9EFEEEB0>\n",
      "<generator object Tokenizer.cut at 0x0000015B9EFEEEB0>\n",
      "<generator object Tokenizer.cut at 0x0000015B9EFEEEB0>\n",
      "<generator object Tokenizer.cut at 0x0000015B9EFEEEB0>\n",
      "<generator object Tokenizer.cut at 0x0000015B9EFEEEB0>\n",
      "<generator object Tokenizer.cut at 0x0000015B9EFEEEB0>\n",
      "<generator object Tokenizer.cut at 0x0000015B9EFEEEB0>\n",
      "<generator object Tokenizer.cut at 0x0000015B9EFEEEB0>\n",
      "<generator object Tokenizer.cut at 0x0000015B9EFEEEB0>\n",
      "<generator object Tokenizer.cut at 0x0000015B9EFEEEB0>\n",
      "<generator object Tokenizer.cut at 0x0000015B9EFEEEB0>\n",
      "<generator object Tokenizer.cut at 0x0000015B9EFEEEB0>\n",
      "<generator object Tokenizer.cut at 0x0000015B9EFEEEB0>\n",
      "<generator object Tokenizer.cut at 0x0000015B9EFEEEB0>\n",
      "<generator object Tokenizer.cut at 0x0000015B9EFEEEB0>\n"
     ]
    },
    {
     "name": "stdout",
     "output_type": "stream",
     "text": [
      "<generator object Tokenizer.cut at 0x0000015B9EFEEEB0>\n",
      "<generator object Tokenizer.cut at 0x0000015B9EFEEEB0>\n",
      "<generator object Tokenizer.cut at 0x0000015B9EFEEEB0>\n",
      "<generator object Tokenizer.cut at 0x0000015B9EFEEEB0>\n",
      "<generator object Tokenizer.cut at 0x0000015B9EFEEEB0>\n",
      "<generator object Tokenizer.cut at 0x0000015B9EFEEEB0>\n",
      "<generator object Tokenizer.cut at 0x0000015B9EFEEEB0>\n",
      "<generator object Tokenizer.cut at 0x0000015B9EFEEEB0>\n",
      "<generator object Tokenizer.cut at 0x0000015B9EFEEEB0>\n",
      "<generator object Tokenizer.cut at 0x0000015B9EFEEEB0>\n",
      "<generator object Tokenizer.cut at 0x0000015B9EFEEEB0>\n",
      "<generator object Tokenizer.cut at 0x0000015B9EFEEEB0>\n",
      "<generator object Tokenizer.cut at 0x0000015B9EFEEEB0>\n",
      "<generator object Tokenizer.cut at 0x0000015B9EFEEEB0>\n",
      "<generator object Tokenizer.cut at 0x0000015B9EFEEEB0>\n",
      "<generator object Tokenizer.cut at 0x0000015B9EFEEEB0>\n",
      "<generator object Tokenizer.cut at 0x0000015B9EFEEEB0>\n",
      "<generator object Tokenizer.cut at 0x0000015B9EFEEEB0>\n",
      "<generator object Tokenizer.cut at 0x0000015B9EFEEEB0>\n",
      "<generator object Tokenizer.cut at 0x0000015B9EFEEEB0>\n",
      "<generator object Tokenizer.cut at 0x0000015B9EFEEEB0>\n",
      "<generator object Tokenizer.cut at 0x0000015B9EFEEEB0>\n",
      "<generator object Tokenizer.cut at 0x0000015B9EFEEEB0>\n",
      "<generator object Tokenizer.cut at 0x0000015B9EFEEEB0>\n",
      "<generator object Tokenizer.cut at 0x0000015B9EFEEEB0>\n",
      "<generator object Tokenizer.cut at 0x0000015B9EFEEEB0>\n",
      "<generator object Tokenizer.cut at 0x0000015B9EFEEEB0>\n",
      "<generator object Tokenizer.cut at 0x0000015B9EFEEEB0>\n",
      "<generator object Tokenizer.cut at 0x0000015B9EFEEEB0>\n",
      "<generator object Tokenizer.cut at 0x0000015B9EFEEEB0>\n",
      "<generator object Tokenizer.cut at 0x0000015B9EFEEEB0>\n",
      "<generator object Tokenizer.cut at 0x0000015B9EFEEEB0>\n",
      "<generator object Tokenizer.cut at 0x0000015B9EFEEEB0>\n",
      "<generator object Tokenizer.cut at 0x0000015B9EFEEEB0>\n",
      "<generator object Tokenizer.cut at 0x0000015B9EFEEEB0>\n",
      "<generator object Tokenizer.cut at 0x0000015B9EFEEEB0>\n",
      "<generator object Tokenizer.cut at 0x0000015B9EFEEEB0>\n",
      "<generator object Tokenizer.cut at 0x0000015B9EFEEEB0>\n",
      "<generator object Tokenizer.cut at 0x0000015B9EFEEEB0>\n",
      "<generator object Tokenizer.cut at 0x0000015B9EFEEEB0>\n",
      "<generator object Tokenizer.cut at 0x0000015B9EFEEEB0>\n",
      "<generator object Tokenizer.cut at 0x0000015B9EFEEEB0>\n",
      "<generator object Tokenizer.cut at 0x0000015B9EFEEEB0>\n",
      "<generator object Tokenizer.cut at 0x0000015B9EFEEEB0>\n",
      "<generator object Tokenizer.cut at 0x0000015B9EFEEEB0>\n",
      "<generator object Tokenizer.cut at 0x0000015B9EFEEEB0>\n",
      "<generator object Tokenizer.cut at 0x0000015B9EFEEEB0>\n",
      "<generator object Tokenizer.cut at 0x0000015B9EFEEEB0>\n",
      "<generator object Tokenizer.cut at 0x0000015B9EFEEEB0>\n",
      "<generator object Tokenizer.cut at 0x0000015B9EFEEEB0>\n",
      "<generator object Tokenizer.cut at 0x0000015B9EFEEEB0>\n",
      "<generator object Tokenizer.cut at 0x0000015B9EFEEEB0>\n",
      "<generator object Tokenizer.cut at 0x0000015B9EFEEEB0>\n",
      "<generator object Tokenizer.cut at 0x0000015B9EFEEEB0>\n",
      "<generator object Tokenizer.cut at 0x0000015B9EFEEEB0>\n",
      "<generator object Tokenizer.cut at 0x0000015B9EFEEEB0>\n",
      "<generator object Tokenizer.cut at 0x0000015B9EFEEEB0>\n",
      "<generator object Tokenizer.cut at 0x0000015B9EFEEEB0>\n",
      "<generator object Tokenizer.cut at 0x0000015B9EFEEEB0>\n",
      "<generator object Tokenizer.cut at 0x0000015B9EFEEEB0>\n",
      "<generator object Tokenizer.cut at 0x0000015B9EFEEEB0>\n",
      "<generator object Tokenizer.cut at 0x0000015B9EFEEEB0>\n",
      "<generator object Tokenizer.cut at 0x0000015B9EFEEEB0>\n",
      "<generator object Tokenizer.cut at 0x0000015B9EFEEEB0>\n",
      "<generator object Tokenizer.cut at 0x0000015B9EFEEEB0>\n",
      "<generator object Tokenizer.cut at 0x0000015B9EFEEEB0>\n",
      "<generator object Tokenizer.cut at 0x0000015B9EFEEEB0>\n",
      "<generator object Tokenizer.cut at 0x0000015B9EFEEEB0>\n",
      "<generator object Tokenizer.cut at 0x0000015B9EFEEEB0>\n",
      "<generator object Tokenizer.cut at 0x0000015B9EFEEEB0>\n",
      "<generator object Tokenizer.cut at 0x0000015B9EFEEEB0>\n",
      "<generator object Tokenizer.cut at 0x0000015B9EFEEEB0>\n",
      "<generator object Tokenizer.cut at 0x0000015B9EFEEEB0>\n",
      "<generator object Tokenizer.cut at 0x0000015B9EFEEEB0>\n",
      "<generator object Tokenizer.cut at 0x0000015B9EFEEEB0>\n",
      "<generator object Tokenizer.cut at 0x0000015B9EFEEEB0>\n",
      "<generator object Tokenizer.cut at 0x0000015B9EFEEEB0>\n",
      "<generator object Tokenizer.cut at 0x0000015B9EFEEEB0>\n",
      "<generator object Tokenizer.cut at 0x0000015B9EFEEEB0>\n",
      "<generator object Tokenizer.cut at 0x0000015B9EFEEEB0>\n",
      "<generator object Tokenizer.cut at 0x0000015B9EFEEEB0>\n",
      "<generator object Tokenizer.cut at 0x0000015B9EFEEEB0>\n",
      "<generator object Tokenizer.cut at 0x0000015B9EFEEEB0>\n",
      "<generator object Tokenizer.cut at 0x0000015B9EFEEEB0>\n",
      "<generator object Tokenizer.cut at 0x0000015B9EFEEEB0>\n",
      "<generator object Tokenizer.cut at 0x0000015B9EFEEEB0>\n",
      "<generator object Tokenizer.cut at 0x0000015B9EFEEEB0>\n",
      "<generator object Tokenizer.cut at 0x0000015B9EFEEEB0>\n",
      "<generator object Tokenizer.cut at 0x0000015B9EFEEEB0>\n",
      "<generator object Tokenizer.cut at 0x0000015B9EFEEEB0>\n",
      "<generator object Tokenizer.cut at 0x0000015B9EFEEEB0>\n",
      "<generator object Tokenizer.cut at 0x0000015B9EFEEEB0>\n",
      "<generator object Tokenizer.cut at 0x0000015B9EFEEEB0>\n",
      "<generator object Tokenizer.cut at 0x0000015B9EFEEEB0>\n",
      "<generator object Tokenizer.cut at 0x0000015B9EFEEEB0>\n",
      "<generator object Tokenizer.cut at 0x0000015B9EFEEEB0>\n",
      "<generator object Tokenizer.cut at 0x0000015B9EFEEEB0>\n",
      "<generator object Tokenizer.cut at 0x0000015B9EFEEEB0>\n",
      "<generator object Tokenizer.cut at 0x0000015B9EFEEEB0>\n",
      "<generator object Tokenizer.cut at 0x0000015B9EFEEEB0>\n",
      "<generator object Tokenizer.cut at 0x0000015B9EFEEEB0>\n",
      "<generator object Tokenizer.cut at 0x0000015B9EFEEEB0>\n",
      "<generator object Tokenizer.cut at 0x0000015B9EFEEEB0>\n",
      "<generator object Tokenizer.cut at 0x0000015B9EFEEEB0>\n",
      "<generator object Tokenizer.cut at 0x0000015B9EFEEEB0>\n",
      "<generator object Tokenizer.cut at 0x0000015B9EFEEEB0>\n",
      "<generator object Tokenizer.cut at 0x0000015B9EFEEEB0>\n",
      "<generator object Tokenizer.cut at 0x0000015B9EFEEEB0>\n",
      "<generator object Tokenizer.cut at 0x0000015B9EFEEEB0>\n",
      "<generator object Tokenizer.cut at 0x0000015B9EFEEEB0>\n",
      "<generator object Tokenizer.cut at 0x0000015B9EFEEEB0>\n",
      "<generator object Tokenizer.cut at 0x0000015B9EFEEEB0>\n",
      "<generator object Tokenizer.cut at 0x0000015B9EFEEEB0>\n",
      "<generator object Tokenizer.cut at 0x0000015B9EFEEEB0>\n",
      "<generator object Tokenizer.cut at 0x0000015B9EFEEEB0>\n",
      "<generator object Tokenizer.cut at 0x0000015B9EFEEEB0>\n",
      "<generator object Tokenizer.cut at 0x0000015B9EFEEEB0>\n",
      "<generator object Tokenizer.cut at 0x0000015B9EFEEEB0>\n",
      "<generator object Tokenizer.cut at 0x0000015B9EFEEEB0>\n",
      "<generator object Tokenizer.cut at 0x0000015B9EFEEEB0>\n",
      "<generator object Tokenizer.cut at 0x0000015B9EFEEEB0>\n",
      "<generator object Tokenizer.cut at 0x0000015B9EFEEEB0>\n",
      "<generator object Tokenizer.cut at 0x0000015B9EFEEEB0>\n",
      "<generator object Tokenizer.cut at 0x0000015B9EFEEEB0>\n",
      "<generator object Tokenizer.cut at 0x0000015B9EFEEEB0>\n",
      "<generator object Tokenizer.cut at 0x0000015B9EFEEEB0>\n",
      "<generator object Tokenizer.cut at 0x0000015B9EFEEEB0>\n",
      "<generator object Tokenizer.cut at 0x0000015B9EFEEEB0>\n",
      "<generator object Tokenizer.cut at 0x0000015B9EFEEEB0>\n",
      "<generator object Tokenizer.cut at 0x0000015B9EFEEEB0>\n",
      "<generator object Tokenizer.cut at 0x0000015B9EFEEEB0>\n",
      "<generator object Tokenizer.cut at 0x0000015B9EFEEEB0>\n",
      "<generator object Tokenizer.cut at 0x0000015B9EFEEEB0>\n",
      "<generator object Tokenizer.cut at 0x0000015B9EFEEEB0>\n",
      "<generator object Tokenizer.cut at 0x0000015B9EFEEEB0>\n",
      "<generator object Tokenizer.cut at 0x0000015B9EFEEEB0>\n",
      "<generator object Tokenizer.cut at 0x0000015B9EFEEEB0>\n",
      "<generator object Tokenizer.cut at 0x0000015B9EFEEEB0>\n",
      "<generator object Tokenizer.cut at 0x0000015B9EFEEEB0>\n",
      "<generator object Tokenizer.cut at 0x0000015B9EFEEEB0>\n",
      "<generator object Tokenizer.cut at 0x0000015B9EFEEEB0>\n",
      "<generator object Tokenizer.cut at 0x0000015B9EFEEEB0>\n",
      "<generator object Tokenizer.cut at 0x0000015B9EFEEEB0>\n",
      "<generator object Tokenizer.cut at 0x0000015B9EFEEEB0>\n",
      "<generator object Tokenizer.cut at 0x0000015B9EFEEEB0>\n",
      "<generator object Tokenizer.cut at 0x0000015B9EFEEEB0>\n",
      "<generator object Tokenizer.cut at 0x0000015B9EFEEEB0>\n",
      "<generator object Tokenizer.cut at 0x0000015B9EFEEEB0>\n",
      "<generator object Tokenizer.cut at 0x0000015B9EFEEEB0>\n",
      "<generator object Tokenizer.cut at 0x0000015B9EFEEEB0>\n",
      "<generator object Tokenizer.cut at 0x0000015B9EFEEEB0>\n",
      "<generator object Tokenizer.cut at 0x0000015B9EFEEEB0>\n",
      "<generator object Tokenizer.cut at 0x0000015B9EFEEEB0>\n",
      "<generator object Tokenizer.cut at 0x0000015B9EFEEEB0>\n",
      "<generator object Tokenizer.cut at 0x0000015B9EFEEEB0>\n",
      "<generator object Tokenizer.cut at 0x0000015B9EFEEEB0>\n",
      "<generator object Tokenizer.cut at 0x0000015B9EFEEEB0>\n",
      "<generator object Tokenizer.cut at 0x0000015B9EFEEEB0>\n",
      "<generator object Tokenizer.cut at 0x0000015B9EFEEEB0>\n",
      "<generator object Tokenizer.cut at 0x0000015B9EFEEEB0>\n",
      "<generator object Tokenizer.cut at 0x0000015B9EFEEEB0>\n",
      "<generator object Tokenizer.cut at 0x0000015B9EFEEEB0>\n",
      "<generator object Tokenizer.cut at 0x0000015B9EFEEEB0>\n",
      "<generator object Tokenizer.cut at 0x0000015B9EFEEEB0>\n",
      "<generator object Tokenizer.cut at 0x0000015B9EFEEEB0>\n",
      "<generator object Tokenizer.cut at 0x0000015B9EFEEEB0>\n",
      "<generator object Tokenizer.cut at 0x0000015B9EFEEEB0>\n"
     ]
    },
    {
     "name": "stdout",
     "output_type": "stream",
     "text": [
      "<generator object Tokenizer.cut at 0x0000015B9EFEEEB0>\n",
      "<generator object Tokenizer.cut at 0x0000015B9EFEEEB0>\n",
      "<generator object Tokenizer.cut at 0x0000015B9EFEEEB0>\n",
      "<generator object Tokenizer.cut at 0x0000015B9EFEEEB0>\n",
      "<generator object Tokenizer.cut at 0x0000015B9EFEEEB0>\n",
      "<generator object Tokenizer.cut at 0x0000015B9EFEEEB0>\n",
      "<generator object Tokenizer.cut at 0x0000015B9EFEEEB0>\n",
      "<generator object Tokenizer.cut at 0x0000015B9EFEEEB0>\n",
      "<generator object Tokenizer.cut at 0x0000015B9EFEEEB0>\n",
      "<generator object Tokenizer.cut at 0x0000015B9EFEEEB0>\n",
      "<generator object Tokenizer.cut at 0x0000015B9EFEEEB0>\n",
      "<generator object Tokenizer.cut at 0x0000015B9EFEEEB0>\n",
      "<generator object Tokenizer.cut at 0x0000015B9EFEEEB0>\n",
      "<generator object Tokenizer.cut at 0x0000015B9EFEEEB0>\n",
      "<generator object Tokenizer.cut at 0x0000015B9EFEEEB0>\n",
      "<generator object Tokenizer.cut at 0x0000015B9EFEEEB0>\n",
      "<generator object Tokenizer.cut at 0x0000015B9EFEEEB0>\n",
      "<generator object Tokenizer.cut at 0x0000015B9EFEEEB0>\n",
      "<generator object Tokenizer.cut at 0x0000015B9EFEEEB0>\n",
      "<generator object Tokenizer.cut at 0x0000015B9EFEEEB0>\n",
      "<generator object Tokenizer.cut at 0x0000015B9EFEEEB0>\n",
      "<generator object Tokenizer.cut at 0x0000015B9EFEEEB0>\n",
      "<generator object Tokenizer.cut at 0x0000015B9EFEEEB0>\n",
      "<generator object Tokenizer.cut at 0x0000015B9EFEEEB0>\n",
      "<generator object Tokenizer.cut at 0x0000015B9EFEEEB0>\n"
     ]
    },
    {
     "ename": "TypeError",
     "evalue": "'float' object is not iterable",
     "output_type": "error",
     "traceback": [
      "\u001b[1;31m---------------------------------------------------------------------------\u001b[0m",
      "\u001b[1;31mTypeError\u001b[0m                                 Traceback (most recent call last)",
      "\u001b[1;32m<ipython-input-449-1ddfcb5089b1>\u001b[0m in \u001b[0;36m<module>\u001b[1;34m\u001b[0m\n\u001b[0;32m      1\u001b[0m \u001b[0mword\u001b[0m \u001b[1;33m=\u001b[0m \u001b[1;33m[\u001b[0m\u001b[1;33m]\u001b[0m\u001b[1;33m\u001b[0m\u001b[1;33m\u001b[0m\u001b[0m\n\u001b[0;32m      2\u001b[0m \u001b[1;32mfor\u001b[0m \u001b[0mi\u001b[0m \u001b[1;32min\u001b[0m \u001b[0mrange\u001b[0m\u001b[1;33m(\u001b[0m\u001b[1;36m4000\u001b[0m\u001b[1;33m)\u001b[0m\u001b[1;33m:\u001b[0m\u001b[1;33m\u001b[0m\u001b[1;33m\u001b[0m\u001b[0m\n\u001b[1;32m----> 3\u001b[1;33m     \u001b[0mword\u001b[0m\u001b[1;33m.\u001b[0m\u001b[0mappend\u001b[0m\u001b[1;33m(\u001b[0m\u001b[0mjieba_cut_new\u001b[0m\u001b[1;33m(\u001b[0m\u001b[0mcontent\u001b[0m\u001b[1;33m[\u001b[0m\u001b[0mi\u001b[0m\u001b[1;33m]\u001b[0m\u001b[1;33m)\u001b[0m\u001b[1;33m)\u001b[0m\u001b[1;33m\u001b[0m\u001b[1;33m\u001b[0m\u001b[0m\n\u001b[0m\u001b[0;32m      4\u001b[0m \u001b[1;33m\u001b[0m\u001b[0m\n",
      "\u001b[1;32m<ipython-input-448-943d0c8798e9>\u001b[0m in \u001b[0;36mjieba_cut_new\u001b[1;34m(text)\u001b[0m\n\u001b[0;32m      2\u001b[0m     \u001b[0mdelect_num\u001b[0m \u001b[1;33m=\u001b[0m \u001b[1;33m[\u001b[0m\u001b[1;33m]\u001b[0m\u001b[1;33m\u001b[0m\u001b[1;33m\u001b[0m\u001b[0m\n\u001b[0;32m      3\u001b[0m     \u001b[0mwords\u001b[0m \u001b[1;33m=\u001b[0m \u001b[1;34m''\u001b[0m\u001b[1;33m\u001b[0m\u001b[1;33m\u001b[0m\u001b[0m\n\u001b[1;32m----> 4\u001b[1;33m     \u001b[1;32mfor\u001b[0m \u001b[0mi\u001b[0m \u001b[1;32min\u001b[0m \u001b[0mtext\u001b[0m\u001b[1;33m:\u001b[0m\u001b[1;33m\u001b[0m\u001b[1;33m\u001b[0m\u001b[0m\n\u001b[0m\u001b[0;32m      5\u001b[0m         \u001b[0mdelect_num\u001b[0m\u001b[1;33m.\u001b[0m\u001b[0mappend\u001b[0m\u001b[1;33m(\u001b[0m\u001b[0mre\u001b[0m\u001b[1;33m.\u001b[0m\u001b[0msub\u001b[0m\u001b[1;33m(\u001b[0m\u001b[1;34m'[a-zA-Z0-9]'\u001b[0m\u001b[1;33m,\u001b[0m \u001b[1;34m\"\"\u001b[0m\u001b[1;33m,\u001b[0m \u001b[0mi\u001b[0m\u001b[1;33m)\u001b[0m\u001b[1;33m)\u001b[0m\u001b[1;33m\u001b[0m\u001b[1;33m\u001b[0m\u001b[0m\n\u001b[0;32m      6\u001b[0m     \u001b[1;32mfor\u001b[0m \u001b[0mi\u001b[0m \u001b[1;32min\u001b[0m \u001b[0mdelect_num\u001b[0m\u001b[1;33m:\u001b[0m\u001b[1;33m\u001b[0m\u001b[1;33m\u001b[0m\u001b[0m\n",
      "\u001b[1;31mTypeError\u001b[0m: 'float' object is not iterable"
     ]
    }
   ],
   "source": [
    "word = []\n",
    "for i in range(4000):\n",
    "    word.append(jieba_cut_new(content[i]))\n",
    "    "
   ]
  },
  {
   "cell_type": "code",
   "execution_count": 1,
   "id": "861114df",
   "metadata": {},
   "outputs": [
    {
     "ename": "NameError",
     "evalue": "name 'word' is not defined",
     "output_type": "error",
     "traceback": [
      "\u001b[1;31m---------------------------------------------------------------------------\u001b[0m",
      "\u001b[1;31mNameError\u001b[0m                                 Traceback (most recent call last)",
      "\u001b[1;32m<ipython-input-1-c2246590dd83>\u001b[0m in \u001b[0;36m<module>\u001b[1;34m\u001b[0m\n\u001b[1;32m----> 1\u001b[1;33m \u001b[0mcontent_all\u001b[0m \u001b[1;33m=\u001b[0m \u001b[1;34m\"\"\u001b[0m\u001b[1;33m.\u001b[0m\u001b[0mjoin\u001b[0m\u001b[1;33m(\u001b[0m\u001b[0mword\u001b[0m\u001b[1;33m)\u001b[0m\u001b[1;33m\u001b[0m\u001b[1;33m\u001b[0m\u001b[0m\n\u001b[0m",
      "\u001b[1;31mNameError\u001b[0m: name 'word' is not defined"
     ]
    }
   ],
   "source": [
    "content_all = \"\".join(word)"
   ]
  },
  {
   "cell_type": "code",
   "execution_count": 451,
   "id": "14258bd1",
   "metadata": {},
   "outputs": [
    {
     "data": {
      "image/png": "[encoded data removed]",
      "text/plain": [
       "<Figure size 432x288 with 1 Axes>"
      ]
     },
     "metadata": {
      "needs_background": "light"
     },
     "output_type": "display_data"
    }
   ],
   "source": [
    "#绘制词云图\n",
    "wc = wordcloud.WordCloud(\n",
    "    font_path = r\"C:\\\\Windows\\\\Fonts\\\\simhei.ttf\",\n",
    "    background_color='white',  # 背景颜色\n",
    "    width=1000, height=600,\n",
    "    max_font_size=200,  # 字体大小\n",
    "    min_font_size=10,\n",
    "    max_words=80\n",
    ")\n",
    "wc.generate(content_all)\n",
    "wc.to_file('wordcloud2.png')  # 图片保存\n",
    "\n",
    "\n",
    "plt.figure('images/jielun')  # 图片显示的名字\n",
    "plt.imshow(wc)\n",
    "plt.axis('off')  # 关闭坐标\n",
    "plt.show()"
   ]
  },
  {
   "cell_type": "code",
   "execution_count": null,
   "id": "6203e482",
   "metadata": {},
   "outputs": [],
   "source": []
  }
 ],
 "metadata": {
  "kernelspec": {
   "display_name": "Python 3 (ipykernel)",
   "language": "python",
   "name": "python3"
  },
  "language_info": {
   "codemirror_mode": {
    "name": "ipython",
    "version": 3
   },
   "file_extension": ".py",
   "mimetype": "text/x-python",
   "name": "python",
   "nbconvert_exporter": "python",
   "pygments_lexer": "ipython3",
   "version": "3.9.7"
  }
 },
 "nbformat": 4,
 "nbformat_minor": 5
}
