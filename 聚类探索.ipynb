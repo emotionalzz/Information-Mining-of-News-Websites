{
 "cells": [
  {
   "cell_type": "code",
   "execution_count": 1,
   "id": "ceb2d9df",
   "metadata": {},
   "outputs": [],
   "source": [
    "import pandas as pd\n",
    "import json"
   ]
  },
  {
   "cell_type": "code",
   "execution_count": 2,
   "id": "ab4a896d",
   "metadata": {},
   "outputs": [],
   "source": [
    "#读取分词后数据\n",
    "data = pd.read_csv(r'C:\\\\Users\\\\X1\\\\Desktop\\\\预处理&分词\\\\分词结果.csv',encoding='gbk')\n",
    "content = list(data['分词结果'])"
   ]
  },
  {
   "cell_type": "code",
   "execution_count": 3,
   "id": "893b3718",
   "metadata": {},
   "outputs": [],
   "source": [
    "content_list = []\n",
    "for i in range(len(content)):\n",
    "    s=content[i].strip(\"[]\").split(\"'\")\n",
    "    s=list(filter(lambda x : x != '', s))\n",
    "    s=list(filter(lambda x : x != ', ',s))\n",
    "    content_list.append(s)"
   ]
  },
  {
   "cell_type": "code",
   "execution_count": 4,
   "id": "af8515c2",
   "metadata": {},
   "outputs": [],
   "source": [
    "content_2021 = content_list[:4207]"
   ]
  },
  {
   "cell_type": "code",
   "execution_count": 5,
   "id": "f6d11aac",
   "metadata": {},
   "outputs": [],
   "source": [
    "content_2020 = content_list[4207:9080]"
   ]
  },
  {
   "cell_type": "code",
   "execution_count": 6,
   "id": "1778dd75",
   "metadata": {},
   "outputs": [],
   "source": [
    "content_2019 = content_list[9080:16326]"
   ]
  },
  {
   "cell_type": "code",
   "execution_count": 7,
   "id": "d4f1b98c",
   "metadata": {},
   "outputs": [],
   "source": [
    "content_2018 = content_list[16326:23614]"
   ]
  },
  {
   "cell_type": "code",
   "execution_count": 8,
   "id": "6acd81ed",
   "metadata": {},
   "outputs": [],
   "source": [
    "content_2017 = content_list[23614:29075]"
   ]
  },
  {
   "cell_type": "code",
   "execution_count": 9,
   "id": "fabd10db",
   "metadata": {},
   "outputs": [],
   "source": [
    "content_2016 = content_list[29075:]"
   ]
  },
  {
   "cell_type": "markdown",
   "id": "2e2df152",
   "metadata": {},
   "source": [
    "# 全文本聚类"
   ]
  },
  {
   "cell_type": "code",
   "execution_count": 4,
   "id": "b4bd75e3",
   "metadata": {},
   "outputs": [],
   "source": [
    "from sklearn.feature_extraction.text import CountVectorizer\n",
    "from sklearn.feature_extraction.text import TfidfVectorizer"
   ]
  },
  {
   "cell_type": "markdown",
   "id": "f2e5570d",
   "metadata": {},
   "source": [
    "原始长度为164596"
   ]
  },
  {
   "cell_type": "code",
   "execution_count": 8,
   "id": "1380a413",
   "metadata": {},
   "outputs": [],
   "source": [
    "document = [\" \".join(sent0) for sent0 in content_list]\n",
    "#向量长度缩减为十分之一\n",
    "tfidf_model = TfidfVectorizer(max_features = 16460).fit(document) \n",
    "tfidf = tfidf_model.transform(document) "
   ]
  },
  {
   "cell_type": "code",
   "execution_count": 10,
   "id": "87f77951",
   "metadata": {},
   "outputs": [],
   "source": [
    "#获取模型中的所有词语  \n",
    "word = tfidf_model.get_feature_names()"
   ]
  },
  {
   "cell_type": "code",
   "execution_count": 11,
   "id": "2111054d",
   "metadata": {},
   "outputs": [],
   "source": [
    "weight = tfidf.toarray()"
   ]
  },
  {
   "cell_type": "code",
   "execution_count": 12,
   "id": "91ef0f50",
   "metadata": {},
   "outputs": [],
   "source": [
    "from sklearn.cluster import KMeans\n",
    "from sklearn.metrics import silhouette_score, silhouette_samples"
   ]
  },
  {
   "cell_type": "code",
   "execution_count": 13,
   "id": "fdcd7fda",
   "metadata": {},
   "outputs": [],
   "source": [
    "import matplotlib.pyplot as plt"
   ]
  },
  {
   "cell_type": "code",
   "execution_count": 25,
   "id": "5166d8c3",
   "metadata": {},
   "outputs": [],
   "source": [
    "#判断最佳聚类数\n",
    "def find_optimal_clusters(data, max_k):\n",
    "    iters = range(2, max_k+1, 1)\n",
    "    \n",
    "    sse = []\n",
    "    for k in iters:\n",
    "        sse.append(KMeans(n_clusters=k, init=\"k-means++\").fit(data).inertia_)\n",
    "        \n",
    "        \n",
    "    f, ax = plt.subplots(1, 1)\n",
    "    ax.plot(iters, sse, marker='o')\n",
    "    ax.set_xlabel('number of clusters')\n",
    "    ax.set_xticks(iters)\n",
    "    ax.set_xticklabels(iters)\n",
    "    ax.set_ylabel('distortions')\n",
    "    plt.savefig(\"./minist.jpg\")\n",
    "    #ax.set_title('SSE by Cluster Center Plot')"
   ]
  },
  {
   "cell_type": "code",
   "execution_count": 26,
   "id": "f3c81d7a",
   "metadata": {},
   "outputs": [
    {
     "data": {
      "image/png": "[encoded data removed]",
      "text/plain": [
       "<Figure size 432x288 with 1 Axes>"
      ]
     },
     "metadata": {
      "needs_background": "light"
     },
     "output_type": "display_data"
    }
   ],
   "source": [
    "find_optimal_clusters(tfidf,15)"
   ]
  },
  {
   "cell_type": "markdown",
   "id": "27b88e91",
   "metadata": {},
   "source": [
    "聚6类"
   ]
  },
  {
   "cell_type": "code",
   "execution_count": 27,
   "id": "278f98f1",
   "metadata": {},
   "outputs": [],
   "source": [
    "clf = KMeans(n_clusters=6)\n",
    "s = clf.fit(tfidf)"
   ]
  },
  {
   "cell_type": "code",
   "execution_count": 35,
   "id": "a73a719c",
   "metadata": {},
   "outputs": [
    {
     "name": "stdout",
     "output_type": "stream",
     "text": [
      "Top terms per cluster:\n",
      "Cluster 0: 新华社 记者 当日 中国 北京 国家 举行 习近平 总理 活动 铁路 李克强 全国 进行 河北省 游客 旅游 日摄 发展 农民 拍摄 旅客 企业 当地 我国 国务院 中华人民共和国 主席 日电 工作 种植 介绍 目前 服务 文化 高铁 情况 学生 项目 建设 无人机 会议 工程 开展 中心 出席 国际 工作人员 上海 村民 群众 位于 这是 答记者问 正式 任命 主题 发布会 国务院新闻办公室 市民 生产 代表 了解 现场 来到 发言人 实现 各地 安全 体验 大桥 产业 近日 广西 世界 大会 景区 表示 生态 公里 组织 城市 技术 展示 参观 列车 产品 吸引 参加 博览会 农业 时间 考察 今年 开幕 地区 公司 工人 期间 机器人\n",
      "Cluster 1: 企业 就业 改革 政策 减税 发展 小微 李克强 创新 创业 服务 支持 市场主体 降费 经济 降低 国务院 环境 工作 市场 进一步 总理 贷款 今年 我国 审批 推进 部门 实施 优化 毕业生 营商 促进 推动 监管 加大 全国 投资 增长 金融 增值税 税收 力度 措施 收费 纳税人 制造业 民营企业 疫情 地方 提高 会议 活力 融资 实现 加快 实体经济 资金 重点 中国 持续 成本 中小企业 要求 提升 方面 落实 制度 试点 问题 双创 行业 完善 中央 出台 事项 扩大 放管服 高校 社会 表示 增加 互联网 中小 银行 经营 建设 鼓励 保障 民生 加强 常务会议 新增 平台 万元 产业 办理 激发 国家 领域\n",
      "Cluster 2: 中国 发展 全球 世界 经济 国际 合作 习近平 国家 开放 创新 中国经济 各国 企业 推动 人类 贸易 增长 世界经济 疫情 投资 联合国 表示 实现 主席 建设 李克强 市场 共同 持续 美国 成为 坚持 论坛 改革 一个 经济增长 促进 重要 数字 时代 环境 我国 出席 全球化 命运 推进 一路 一带 进口 知识产权 治理 不断 领域 改革开放 构建 总理 未来 社会 指出 发展中国家 技术 发表 共同体 复苏 继续 对外开放 报告 认为 大会 今年 北京 挑战 和平 峰会 应对 全面 科技 经济发展 贡献 提供 历史 积极 问题 强调 产业 制造 体系 保护 代表 支持 外资 国内 消费 博览会 新华社 正在 绿色 记者 进一步\n",
      "Cluster 3: 合作 中方 双方 中国 发展 关系 共同 习近平 王毅 会见 总理 主席 表示 一带 一路 两国 领域 李克强 总统 推动 加强 愿同 国家 维护 国际 交流 领导人 深化 务实 东盟 支持 和平 两国关系 国务委员 外长 地区 北京 重要 新华社 共识 稳定 日电 对话 多边 疫情 出席 共建 取得 经济 希望 会晤 建交 互利 继续 全面战略 一道 中欧 友好 中非 伙伴关系 两国人民 互信 世界 推进 人文 坚定 投资 问题 周年 政治 交往 不断 论坛 积极 记者 成果 峰会 倡议 会议 促进 安全 建设 共同体 密切 举行 达成 贸易 战略 中东欧 各国 主义 元首 国务院 非洲 命运 高层 沟通 联合国 经贸 指出\n",
      "Cluster 4: 增长 同比 百分点 月份 增速 消费 企业 我国 工业 制造业 下降 上年 分别 上半年 投资 全国 外贸 经济 出口 一季度 服务业 以上 规模 发展 同期 进出口 保持 指数 持续 行业 加快 利润 三季度 回落 收入 价格 服务 回升 态势 平稳 国家统计局 比上 数据显示 增加值 今年 中国 10 总体 恢复 实现 数据 上涨 进口 主要 提高 11 影响 cpi 中国经济 产业 12 发布 去年同期 支出 因素 高技术 消费品 结构 生产 国内 比重 较快增长 商务部 pmi 记者 高于 增加 平均 升级 表示 市场 涨幅 继续 环比 上升 外资 月末 疫情 提升 亿美元 稳定 有所 达到 13 收窄 供给 经济增长 总值 明显 14\n",
      "Cluster 5: 工作 发展 建设 改革 服务 疫情 推进 国家 加强 农村 国务院 习近平 全国 保障 脱贫 扶贫 要求 农业 安全 全面 防控 群众 问题 强调 部门 制度 我国 重点 企业 推动 创新 坚持 落实 生产 完善 教育 做好 社会 管理 开展 加快 中央 健康 总书记 机制 实施 会议 体系 部署 政策 中国 监管 李克强 重要 强化 提升 地区 实现 确保 乡村 地方 情况 医疗 党中央 任务 提高 支持 生态 保护 治理 攻坚 能力 召开 进一步 促进 资金 记者 产业 建立 意见 总理 方面 各地 标准 质量 北京 项目 机构 措施 提出 药品 责任 深入 通知 重大 城市 指出 规划 表示 领域\n"
     ]
    }
   ],
   "source": [
    "#关键词展示\n",
    "print(\"Top terms per cluster:\")\n",
    "order_centroids = s.cluster_centers_.argsort()[:, ::-1]\n",
    "\n",
    "for i in range(6):\n",
    "    print(\"Cluster %d:\" % i, end='')\n",
    "    for ind in order_centroids[i, :100]:\n",
    "        print(' %s' % word[ind], end='')\n",
    "    print()"
   ]
  },
  {
   "cell_type": "code",
   "execution_count": null,
   "id": "2d5ff016",
   "metadata": {},
   "outputs": [],
   "source": [
    "民生实时、双创改革、经济发展、外交合作、信息公开、发展战略"
   ]
  },
  {
   "cell_type": "code",
   "execution_count": 30,
   "id": "dcbcb62a",
   "metadata": {},
   "outputs": [
    {
     "name": "stdout",
     "output_type": "stream",
     "text": [
      "Cluster distribution:\n",
      "{5: 7818, 1: 2868, 0: 14051, 2: 2491, 3: 3632, 4: 1931}\n"
     ]
    }
   ],
   "source": [
    "#输出每类有几篇文章\n",
    "result = list(clf.predict(tfidf))\n",
    "print ('Cluster distribution:')\n",
    "print (dict([(i, result.count(i)) for i in result]))"
   ]
  },
  {
   "cell_type": "markdown",
   "id": "9ca20347",
   "metadata": {},
   "source": [
    "绘图"
   ]
  },
  {
   "cell_type": "code",
   "execution_count": 32,
   "id": "cf93f4f9",
   "metadata": {},
   "outputs": [],
   "source": [
    "import matplotlib as mpl"
   ]
  },
  {
   "cell_type": "code",
   "execution_count": 33,
   "id": "daa6ea8f",
   "metadata": {},
   "outputs": [
    {
     "data": {
      "image/png": "[encoded data removed]",
      "text/plain": [
       "<Figure size 432x288 with 1 Axes>"
      ]
     },
     "metadata": {
      "needs_background": "light"
     },
     "output_type": "display_data"
    }
   ],
   "source": [
    "mpl.rcParams[\"font.sans-serif\"]=[\"SimHei\"]#显示中文\n",
    "name=[\"民生实事\",\"发展战略\",\"外交合作\",\"双创改革\",\"经济发展\",\"信息公开\"]\n",
    "weight=[14051,7818,3632,2868,2491,1931]\n",
    "plt.bar(name,weight)\n",
    "plt.show()"
   ]
  },
  {
   "cell_type": "markdown",
   "id": "daa02095",
   "metadata": {},
   "source": [
    "# 2021年数据聚类"
   ]
  },
  {
   "cell_type": "code",
   "execution_count": 12,
   "id": "7a848c38",
   "metadata": {},
   "outputs": [],
   "source": [
    "from sklearn.feature_extraction.text import CountVectorizer\n",
    "from sklearn.feature_extraction.text import TfidfVectorizer"
   ]
  },
  {
   "cell_type": "markdown",
   "id": "6a158836",
   "metadata": {},
   "source": [
    "原始长度为64148"
   ]
  },
  {
   "cell_type": "code",
   "execution_count": 50,
   "id": "c9e6a67c",
   "metadata": {},
   "outputs": [],
   "source": [
    "document_2021 = [\" \".join(sent0) for sent0 in content_2021]\n",
    "#向量长度缩减为十分之一\n",
    "tfidf_model_2021 = TfidfVectorizer(max_features = 6415).fit(document_2021) \n",
    "tfidf_2021 = tfidf_model_2021.transform(document_2021) "
   ]
  },
  {
   "cell_type": "code",
   "execution_count": 52,
   "id": "4fef20fa",
   "metadata": {},
   "outputs": [],
   "source": [
    "#获取模型中的所有词语  \n",
    "word_2021 = tfidf_model_2021.get_feature_names()"
   ]
  },
  {
   "cell_type": "code",
   "execution_count": 53,
   "id": "d42668e0",
   "metadata": {},
   "outputs": [],
   "source": [
    "weight_2021 = tfidf_2021.toarray()"
   ]
  },
  {
   "cell_type": "code",
   "execution_count": 20,
   "id": "19f03890",
   "metadata": {},
   "outputs": [],
   "source": [
    "from sklearn.cluster import KMeans\n",
    "from sklearn.metrics import silhouette_score, silhouette_samples"
   ]
  },
  {
   "cell_type": "code",
   "execution_count": 23,
   "id": "9b69236c",
   "metadata": {},
   "outputs": [],
   "source": [
    "import matplotlib.pyplot as plt"
   ]
  },
  {
   "cell_type": "code",
   "execution_count": 21,
   "id": "d2707e2f",
   "metadata": {},
   "outputs": [],
   "source": [
    "#判断最佳聚类数\n",
    "def find_optimal_clusters(data, max_k):\n",
    "    iters = range(2, max_k+1, 1)\n",
    "    \n",
    "    sse = []\n",
    "    for k in iters:\n",
    "        sse.append(KMeans(n_clusters=k, init=\"k-means++\").fit(data).inertia_)\n",
    "        \n",
    "        \n",
    "    f, ax = plt.subplots(1, 1)\n",
    "    ax.plot(iters, sse, marker='o')\n",
    "    ax.set_xlabel('Cluster Centers')\n",
    "    ax.set_xticks(iters)\n",
    "    ax.set_xticklabels(iters)\n",
    "    ax.set_ylabel('SSE')\n",
    "    ax.set_title('SSE by Cluster Center Plot')"
   ]
  },
  {
   "cell_type": "code",
   "execution_count": 25,
   "id": "091073ea",
   "metadata": {},
   "outputs": [
    {
     "data": {
      "image/png": "[encoded data removed]",
      "text/plain": [
       "<Figure size 432x288 with 1 Axes>"
      ]
     },
     "metadata": {
      "needs_background": "light"
     },
     "output_type": "display_data"
    }
   ],
   "source": [
    "find_optimal_clusters(tfidf_2021,10)"
   ]
  },
  {
   "cell_type": "markdown",
   "id": "9921acb2",
   "metadata": {},
   "source": [
    "聚六类"
   ]
  },
  {
   "cell_type": "code",
   "execution_count": 55,
   "id": "f5bfc2d5",
   "metadata": {},
   "outputs": [],
   "source": [
    "clf_2021 = KMeans(n_clusters=6)\n",
    "s_2021 = clf_2021.fit(tfidf_2021)"
   ]
  },
  {
   "cell_type": "code",
   "execution_count": 56,
   "id": "e0a52b77",
   "metadata": {},
   "outputs": [
    {
     "name": "stdout",
     "output_type": "stream",
     "text": [
      "Top terms per cluster:\n",
      "Cluster 0: 习近平 主席 视频 发表 出席 中华人民共和国 峰会 国家 日晚 方式\n",
      "Cluster 1: 企业 就业 发展 中国 市场主体 政策 创新 支持 服务 改革\n",
      "Cluster 2: 增长 同比 百分点 增速 月份 企业 消费 同期 我国 制造业\n",
      "Cluster 3: 工作 国家 全国 保障 服务 国务院 疫情 安全 我国 建设\n",
      "Cluster 4: 习近平 中国 总书记 发展 中国共产党 伟大 中华民族 全面 建设 历史\n",
      "Cluster 5: 合作 中方 中国 王毅 发展 双方 关系 共同 愿同 外长\n"
     ]
    }
   ],
   "source": [
    "#关键词展示\n",
    "print(\"Top terms per cluster:\")\n",
    "order_centroids = s_2021.cluster_centers_.argsort()[:, ::-1]\n",
    "\n",
    "for i in range(6):\n",
    "    print(\"Cluster %d:\" % i, end='')\n",
    "    for ind in order_centroids[i, :10]:\n",
    "        print(' %s' % word_2021[ind], end='')\n",
    "    print()"
   ]
  },
  {
   "cell_type": "code",
   "execution_count": 57,
   "id": "973d3ee2",
   "metadata": {},
   "outputs": [
    {
     "name": "stdout",
     "output_type": "stream",
     "text": [
      "Cluster distribution:\n",
      "{4: 476, 1: 817, 3: 1637, 0: 356, 5: 527, 2: 394}\n"
     ]
    }
   ],
   "source": [
    "#输出每类有几篇文章\n",
    "result = list(clf_2021.predict(tfidf_2021))\n",
    "print ('Cluster distribution:')\n",
    "print (dict([(i, result.count(i)) for i in result]))"
   ]
  },
  {
   "cell_type": "markdown",
   "id": "20d8580e",
   "metadata": {},
   "source": [
    "聚十类"
   ]
  },
  {
   "cell_type": "code",
   "execution_count": 58,
   "id": "ceb64480",
   "metadata": {},
   "outputs": [],
   "source": [
    "clf_202110 = KMeans(n_clusters=10)\n",
    "s_202110 = clf_202110.fit(tfidf_2021)"
   ]
  },
  {
   "cell_type": "code",
   "execution_count": 59,
   "id": "0bd43586",
   "metadata": {},
   "outputs": [
    {
     "name": "stdout",
     "output_type": "stream",
     "text": [
      "Top terms per cluster:\n",
      "Cluster 0: 中国 全球 疫苗 发展 合作 接种 世界 国际 经济 疫情\n",
      "Cluster 1: 就业 毕业生 创业 招聘 高校 劳动者 服务 岗位 灵活 培训\n",
      "Cluster 2: 习近平 视频 主席 发表 出席 峰会 日晚 国家 方式 领导人\n",
      "Cluster 3: 工作 服务 发展 全国 国家 国务院 建设 疫情 保障 我国\n",
      "Cluster 4: 企业 发展 市场主体 政策 制造业 创新 支持 李克强 小微 改革\n",
      "Cluster 5: 粮食 农村 农业 乡村 保护 生产 工作 生态 农民 脱贫\n",
      "Cluster 6: 习近平 中国 中国共产党 总书记 发展 伟大 中华民族 全面 历史 建设\n",
      "Cluster 7: 增长 同比 增速 百分点 月份 消费 企业 同期 两年 平均\n",
      "Cluster 8: 中华人民共和国 全国人民代表大会常务委员会 主席令 第十三届 现予 特命 全权大使 施行 公布 日起\n",
      "Cluster 9: 中方 合作 王毅 双方 中国 关系 发展 外长 愿同 共同\n"
     ]
    }
   ],
   "source": [
    "#关键词展示\n",
    "print(\"Top terms per cluster:\")\n",
    "order_centroids = s_202110.cluster_centers_.argsort()[:, ::-1]\n",
    "\n",
    "for i in range(10):\n",
    "    print(\"Cluster %d:\" % i, end='')\n",
    "    for ind in order_centroids[i, :10]:\n",
    "        print(' %s' % word_2021[ind], end='')\n",
    "    print()"
   ]
  },
  {
   "cell_type": "code",
   "execution_count": 61,
   "id": "c2b91808",
   "metadata": {},
   "outputs": [
    {
     "name": "stdout",
     "output_type": "stream",
     "text": [
      "Cluster distribution:\n",
      "{6: 403, 3: 1517, 4: 440, 0: 317, 2: 285, 9: 385, 5: 399, 7: 331, 1: 89, 8: 41}\n"
     ]
    }
   ],
   "source": [
    "#输出每类有几篇文章\n",
    "result = list(clf_202110.predict(tfidf_2021))\n",
    "print ('Cluster distribution:')\n",
    "print (dict([(i, result.count(i)) for i in result]))"
   ]
  },
  {
   "cell_type": "markdown",
   "id": "a8fa5c05",
   "metadata": {},
   "source": [
    "# 农村相关聚类"
   ]
  },
  {
   "cell_type": "code",
   "execution_count": 62,
   "id": "24304ec8",
   "metadata": {},
   "outputs": [],
   "source": [
    "content_nongcun = []\n",
    "for i in range(len(content_list)):\n",
    "    if ('农村' in content_list[i]):\n",
    "        content_nongcun.append(content_list[i])"
   ]
  },
  {
   "cell_type": "markdown",
   "id": "d6ffbdc4",
   "metadata": {},
   "source": [
    "原始向量长度71334"
   ]
  },
  {
   "cell_type": "code",
   "execution_count": 65,
   "id": "657bef5b",
   "metadata": {},
   "outputs": [],
   "source": [
    "document_nc = [\" \".join(sent0) for sent0 in content_nongcun]\n",
    "#向量长度缩减为十分之一\n",
    "tfidf_model_nc = TfidfVectorizer(max_features = 7133).fit(document_nc) \n",
    "tfidf_nc = tfidf_model_nc.transform(document_nc) \n",
    "word_nc = tfidf_model_nc.get_feature_names()\n",
    "weight_nc = tfidf_nc.toarray()"
   ]
  },
  {
   "cell_type": "code",
   "execution_count": 66,
   "id": "89ac2cc6",
   "metadata": {},
   "outputs": [
    {
     "data": {
      "image/png": "[encoded data removed]",
      "text/plain": [
       "<Figure size 432x288 with 1 Axes>"
      ]
     },
     "metadata": {
      "needs_background": "light"
     },
     "output_type": "display_data"
    }
   ],
   "source": [
    "find_optimal_clusters(tfidf_nc,10)"
   ]
  },
  {
   "cell_type": "markdown",
   "id": "fdbf50f5",
   "metadata": {},
   "source": [
    "聚八类"
   ]
  },
  {
   "cell_type": "code",
   "execution_count": 71,
   "id": "9e30a25f",
   "metadata": {},
   "outputs": [
    {
     "name": "stdout",
     "output_type": "stream",
     "text": [
      "Top terms per cluster:\n",
      "Cluster 0: 快递 邮政 寄递 国家邮政局 亿件 网点 快件 服务 物流 业务量 包裹 末端 电商 农村 马军胜 进村 通邮 行业 发展 农产品 企业 超过 同比 增长 建制 网络 配送 业务收入 直接 乡镇 地区 全国 智能 投递 下乡 实现 我国 站点 进城 目前 达到 完成 业务 万个 今年 覆盖率 提升 支撑 菜鸟 乡村\n",
      "Cluster 1: 消费 增长 同比 百分点 增速 上年 月份 投资 发展 上半年 我国 全国 经济 零售额 企业 三季度 一季度 消费品 下降 升级 汽车 工业 加快 上涨 经济增长 价格 电商 商品 人均 持续 中国 服务业 商务部 农村 分别 网络 中国经济 零售总额 规模 零售 以上 同期 潜力 制造业 市场 可支配收入 保持 增加值 平稳 服务\n",
      "Cluster 2: 农业 粮食 农民 农产品 发展 生产 农村 农业农村部 改革 供给 推进 乡村 产业 我国 绿色 面积 全国 种植 三农 经营 玉米 小麦 建设 丰收 新型 现代农业 农机 农户 加快 万亩 结构性 粮食安全 增收 融合 主体 振兴 稳定 机械化 质量 合作社 今年 增长 提高 中国 政策 现代化 耕地 增加 达到 夏粮\n",
      "Cluster 3: 乡村 振兴 农村 农业 人居 农民 整治 环境 村庄 发展 三农 建设 治理 推进 胡春华 工作 旅游 战略 垃圾 全面 产业 行动 农业农村部 现代化 脱贫 实施 清洁 厕所 习近平 宜居 加快 美丽 强调 生活 城乡 推动 生态 体系 坚持 中央 总书记 文化 污水 全国 改善 融合 加强 改革 机制 攻坚\n",
      "Cluster 4: 就业 创业 毕业生 农民工 万人 高校 人员 岗位 城镇 企业 劳动力 政策 服务 培训 失业率 失业 招聘 劳动者 返乡 稳定 技能 社部 形势 促进 新增 工作 今年 支持 吸纳 困难 群体 灵活 民生 补贴 我国 全国 人力资源 发展 保障 调查 优先 重点 扩大 增长 稳岗 经济 疫情 职业技能 实施 月份\n",
      "Cluster 5: 发展 农村 工作 企业 建设 服务 改革 全国 推进 国家 保障 疫情 加强 教育 国务院 记者 安全 政策 李克强 地区 养老 问题 我国 中国 支持 新华社 开展 就业 儿童 实施 制度 重点 推动 群众 资金 要求 部门 社会 学生 生活 城市 完善 提高 地方 试点 进一步 互联网 实现 提升 管理\n",
      "Cluster 6: 扶贫 脱贫 攻坚 贫困 贫困人口 贫困地区 精准 攻坚战 减贫 工作 贫困户 贫困县 帮扶 产业 群众 资金 扶贫开发 中国 发展 深度 打赢 农村 习近平 实现 摘帽 搬迁 全面 胡春华 任务 保障 问题 建档立卡 返贫 政策 解决 易地 全国 就业 地区 饮水 确保 乡村 致贫 国务院扶贫办 目标 强调 医疗 贫困村 总书记 国务院\n",
      "Cluster 7: 中国 发展 习近平 改革 总书记 经济 全面 建设 国家 坚持 工作 推动 世界 创新 时代 推进 改革开放 教育 考察 主席 实现 全球 国际 生态 制度 社会 同志 疫情 加强 我国 企业 问题 特色 会议 重大 一个 领导 重要 强调 合作 新华社 开放 治理 中国共产党 群众 现代化 党中央 文化 李克强 体系\n"
     ]
    }
   ],
   "source": [
    "clf_nc8 = KMeans(n_clusters = 8)\n",
    "s_nc8 = clf_nc8.fit(tfidf_nc)\n",
    "#关键词展示\n",
    "print(\"Top terms per cluster:\")\n",
    "order_centroids = s_nc8.cluster_centers_.argsort()[:, ::-1]\n",
    "\n",
    "for i in range(8):\n",
    "    print(\"Cluster %d:\" % i, end='')\n",
    "    for ind in order_centroids[i, :50]:\n",
    "        print(' %s' % word_nc[ind], end='')\n",
    "    print()"
   ]
  },
  {
   "cell_type": "code",
   "execution_count": 72,
   "id": "e9ba2cf6",
   "metadata": {},
   "outputs": [
    {
     "name": "stdout",
     "output_type": "stream",
     "text": [
      "Cluster distribution:\n",
      "{2: 264, 5: 1314, 3: 145, 0: 60, 4: 109, 7: 352, 1: 207, 6: 191}\n"
     ]
    }
   ],
   "source": [
    "#输出每类有几篇文章\n",
    "result = list(clf_nc8.predict(tfidf_nc))\n",
    "print ('Cluster distribution:')\n",
    "print (dict([(i, result.count(i)) for i in result]))"
   ]
  },
  {
   "cell_type": "markdown",
   "id": "096c14d5",
   "metadata": {},
   "source": [
    "聚七类"
   ]
  },
  {
   "cell_type": "code",
   "execution_count": 74,
   "id": "9d1d5787",
   "metadata": {},
   "outputs": [
    {
     "name": "stdout",
     "output_type": "stream",
     "text": [
      "Top terms per cluster:\n",
      "Cluster 0: 扶贫 脱贫 攻坚 贫困 贫困地区 贫困人口 帮扶 精准 工作 攻坚战 贫困户 产业 贫困县 群众 资金 胡春华 扶贫开发 发展 减贫 乡村 搬迁 深度 习近平 农村 打赢 保障 全面 任务 摘帽 实现 返贫 问题 易地 政策 就业 建档立卡 地区 解决 强调 全国 确保 饮水 国务院扶贫办 总书记 国务院 贫困村 致贫 医疗 加强 中国\n",
      "Cluster 1: 就业 创业 毕业生 农民工 万人 高校 人员 岗位 城镇 企业 服务 政策 劳动力 培训 失业率 招聘 劳动者 失业 返乡 稳定 技能 社部 促进 形势 工作 新增 支持 今年 吸纳 困难 灵活 群体 民生 我国 补贴 全国 人力资源 发展 重点 稳岗 优先 保障 增长 经济 扩大 调查 职业技能 实施 疫情 求职\n",
      "Cluster 2: 农业 乡村 农民 农村 发展 粮食 振兴 农产品 生产 三农 产业 推进 改革 建设 农业农村部 供给 现代化 我国 工作 加快 绿色 经营 融合 全国 新型 战略 丰收 现代农业 创新 政策 种植 主体 全面 体系 创业 胡春华 农户 中国 面积 增收 服务 实施 合作社 实现 结构性 促进 农机 休闲 支持 质量\n",
      "Cluster 3: 农村 发展 工作 建设 企业 服务 改革 全国 推进 国家 保障 加强 疫情 国务院 记者 教育 安全 李克强 乡村 政策 地区 问题 我国 开展 养老 新华社 支持 实施 中国 生活 群众 重点 推动 儿童 制度 就业 部门 要求 资金 环境 社会 学生 提升 整治 地方 城市 管理 完善 实现 提高\n",
      "Cluster 4: 消费 增长 同比 百分点 增速 上年 月份 投资 上半年 发展 全国 三季度 经济 我国 下降 零售额 一季度 企业 加快 消费品 价格 升级 汽车 上涨 工业 农村 持续 人均 电商 经济增长 商品 中国 分别 中国经济 服务业 商务部 规模 网络 以上 同期 平稳 零售总额 可支配收入 保持 制造业 零售 潜力 供给 农产品 增加值\n",
      "Cluster 5: 快递 邮政 寄递 国家邮政局 亿件 网点 快件 服务 物流 业务量 包裹 末端 电商 农村 马军胜 进村 通邮 行业 发展 农产品 企业 超过 同比 增长 建制 网络 配送 业务收入 直接 乡镇 地区 全国 智能 投递 下乡 实现 我国 站点 进城 目前 达到 完成 业务 万个 今年 覆盖率 提升 支撑 菜鸟 乡村\n",
      "Cluster 6: 中国 发展 习近平 改革 总书记 经济 全面 建设 国家 坚持 世界 工作 推动 创新 时代 推进 改革开放 全球 实现 主席 国际 考察 教育 生态 社会 制度 疫情 脱贫 加强 同志 合作 问题 我国 企业 特色 会议 重大 领导 重要 治理 一个 强调 开放 新华社 群众 文化 党中央 体系 持续 中国共产党\n"
     ]
    }
   ],
   "source": [
    "clf_nc7 = KMeans(n_clusters = 7)\n",
    "s_nc7 = clf_nc7.fit(tfidf_nc)\n",
    "#关键词展示\n",
    "print(\"Top terms per cluster:\")\n",
    "order_centroids = s_nc7.cluster_centers_.argsort()[:, ::-1]\n",
    "\n",
    "for i in range(7):\n",
    "    print(\"Cluster %d:\" % i, end='')\n",
    "    for ind in order_centroids[i, :50]:\n",
    "        print(' %s' % word_nc[ind], end='')\n",
    "    print()"
   ]
  },
  {
   "cell_type": "code",
   "execution_count": 75,
   "id": "247dd5b1",
   "metadata": {},
   "outputs": [
    {
     "name": "stdout",
     "output_type": "stream",
     "text": [
      "Cluster distribution:\n",
      "{2: 344, 3: 1353, 5: 60, 4: 229, 1: 107, 6: 355, 0: 194}\n"
     ]
    }
   ],
   "source": [
    "#输出每类有几篇文章\n",
    "result = list(clf_nc7.predict(tfidf_nc))\n",
    "print ('Cluster distribution:')\n",
    "print (dict([(i, result.count(i)) for i in result]))"
   ]
  },
  {
   "cell_type": "markdown",
   "id": "8692c965",
   "metadata": {},
   "source": [
    "# 农业相关聚类"
   ]
  },
  {
   "cell_type": "code",
   "execution_count": 76,
   "id": "4b52c0a2",
   "metadata": {},
   "outputs": [],
   "source": [
    "content_nongye = []\n",
    "for i in range(len(content_list)):\n",
    "    if ('农业' in content_list[i]):\n",
    "        content_nongye.append(content_list[i])"
   ]
  },
  {
   "cell_type": "code",
   "execution_count": 77,
   "id": "c1409f4a",
   "metadata": {},
   "outputs": [
    {
     "data": {
      "text/plain": [
       "2845"
      ]
     },
     "execution_count": 77,
     "metadata": {},
     "output_type": "execute_result"
    }
   ],
   "source": [
    "len(content_nongye)"
   ]
  },
  {
   "cell_type": "markdown",
   "id": "7223248f",
   "metadata": {},
   "source": [
    "原始向量长度为69971"
   ]
  },
  {
   "cell_type": "code",
   "execution_count": 82,
   "id": "defe56df",
   "metadata": {},
   "outputs": [],
   "source": [
    "document_ny = [\" \".join(sent0) for sent0 in content_nongye]\n",
    "#向量长度缩减为十分之一\n",
    "tfidf_model_ny = TfidfVectorizer(max_features = 6997).fit(document_ny) \n",
    "tfidf_ny = tfidf_model_ny.transform(document_ny) \n",
    "word_ny = tfidf_model_ny.get_feature_names()\n",
    "weight_ny = tfidf_ny.toarray()"
   ]
  },
  {
   "cell_type": "code",
   "execution_count": 83,
   "id": "db737fdf",
   "metadata": {},
   "outputs": [
    {
     "data": {
      "image/png": "[encoded data removed]",
      "text/plain": [
       "<Figure size 432x288 with 1 Axes>"
      ]
     },
     "metadata": {
      "needs_background": "light"
     },
     "output_type": "display_data"
    }
   ],
   "source": [
    "find_optimal_clusters(tfidf_ny,10)"
   ]
  },
  {
   "cell_type": "markdown",
   "id": "fd5f71e3",
   "metadata": {},
   "source": [
    "聚十类"
   ]
  },
  {
   "cell_type": "code",
   "execution_count": 93,
   "id": "2a82473b",
   "metadata": {},
   "outputs": [
    {
     "name": "stdout",
     "output_type": "stream",
     "text": [
      "Top terms per cluster:\n",
      "Cluster 0: 合作 中方 中国 双方 总理 发展 李克强 领域 共同 主席 习近平 总统 会见 关系 一带 一路 国家 加强 两国 中东欧 表示 推动 愿同 东盟 国际 深化 贸易 支持 交流 投资 务实 经济 领导人 王毅 两国关系 互利 地区 会谈 和平 维护 出席 中非 人文 共建 继续 签署 会晤 建设 新华社 论坛\n",
      "Cluster 1: 农业 发展 工作 全国 记者 建设 总理 我国 农村 企业 改革 国家 李克强 生产 服务 农产品 中国 新华社 推进 国务院 工程 农民 保护 资金 创新 开展 项目 技术 问题 保障 要求 生态 重点 节水 数据 普查 地方 安全 政策 部门 支持 情况 地区 管理 实施 领域 加强 群众 财政部 卫星\n",
      "Cluster 2: 粮食 生产 农业 小麦 面积 玉米 农机 耕地 万亩 农田 农民 绿色 补贴 今年 农业农村部 全国 发展 机械化 种植 高标准 夏粮 我国 粮食安全 供给 农产品 种粮 丰收 亿亩 大豆 质量 推进 增加 收购 稳定 确保 保障 建设 秋粮 政策 化肥 提高 水稻 服务 农村 春耕 胡春华 优质 改革 农户 抓好\n",
      "Cluster 3: 增长 同比 百分点 增速 月份 上半年 投资 一季度 三季度 上年 消费 下降 价格 经济 就业 全国 工业 增加值 服务业 加快 上涨 以上 我国 分别 总体 企业 发展 制造业 平稳 持续 农村 保持 同期 规模 环比 恢复 回落 农产品 生猪 态势 稳定 平均 生产 经济增长 两年 人均 cpi 今年 产量 影响\n",
      "Cluster 4: 就业 企业 发展 改革 疫情 工作 推进 政策 会议 防控 推动 建设 完善 国务院 支持 经济 加快 创新 创业 保障 加强 促进 服务 重点 实施 做好 加大 消费 李克强 供给 制度 落实 提高 民生 全面 进一步 部门 报告 我国 机制 国家 坚持 社会 投资 优化 力度 要求 部署 中央 任务\n",
      "Cluster 5: 农村 乡村 振兴 农民 农业 发展 三农 农产品 建设 产业 推进 工作 改革 现代化 脱贫 电商 融合 全面 体系 战略 创业 加快 城乡 服务 旅游 农业农村部 实施 休闲 人居 全国 胡春华 创新 供给 政策 整治 环境 快递 支持 推动 习近平 经营 实现 生产 中央 物流 中国 治理 完善 促进 主体\n",
      "Cluster 6: 农民 种植 河北省 新华社 农业 合作社 采摘 蔬菜 大棚 记者 增收 基地 农户 特色 当地 带动 杨世尧 目前 专业 产业结构 引导 乡村 调整 发展 设施 现代农业 村民 李晓果 无人机 休闲 大力发展 余亩 观光 田间 村农民 花卉 山东省 积极 日摄 生态 游客 葡萄 产业 模式 面积 致富 朱旭东 生产 牟宇 秸秆\n",
      "Cluster 7: 中国 发展 全球 经济 创新 世界 我国 企业 国际 互联网 国家 开放 建设 增长 中国经济 数字 科技 推动 实现 合作 改革 领域 社会 技术 成为 市场 持续 投资 习近平 坚持 全面 产业 推进 生态 服务业 治理 体系 经济发展 现代化 促进 改革开放 加快 环境 制造 经济增长 制度 重要 国内 世界经济 时代\n",
      "Cluster 8: 扶贫 脱贫 贫困地区 攻坚 贫困户 贫困 产业 资金 贫困县 精准 贫困人口 群众 工作 帮扶 发展 搬迁 就业 特色产业 贫困村 扶贫开发 政策 项目 深度 攻坚战 产业发展 支持 整合 农村 地区 易地 财政 乡村 农产品 建档立卡 带动 实现 生态 建设 问题 特色 金融 增收 记者 企业 涉农 消费 合作社 摘帽 农业 推进\n",
      "Cluster 9: 习近平 总书记 考察 发展 中共中央 中国 中央军委主席 来到 改革 全面 主席 国家 工作 新华社 这是 下午 强调 脱贫 生态 同志 建设 日至 党中央 谢环驰 情况 群众 疫情 记者 时代 坚持 座谈会 鞠鹏 调研 亲切 推动 振兴 村民 推进 乡村 上午 代表团 察看 精神 黄河 了解 领导 参加 实现 宁夏 农村\n"
     ]
    }
   ],
   "source": [
    "clf_ny10 = KMeans(n_clusters = 10)\n",
    "s_ny10 = clf_ny10.fit(tfidf_ny)\n",
    "#关键词展示\n",
    "print(\"Top terms per cluster:\")\n",
    "order_centroids = s_ny10.cluster_centers_.argsort()[:, ::-1]\n",
    "\n",
    "for i in range(10):\n",
    "    print(\"Cluster %d:\" % i, end='')\n",
    "    for ind in order_centroids[i, :50]:\n",
    "        print(' %s' % word_ny[ind], end='')\n",
    "    print()"
   ]
  },
  {
   "cell_type": "code",
   "execution_count": 85,
   "id": "8f3a0342",
   "metadata": {},
   "outputs": [
    {
     "name": "stdout",
     "output_type": "stream",
     "text": [
      "Cluster distribution:\n",
      "{9: 233, 7: 276, 3: 233, 5: 281, 1: 268, 0: 964, 6: 138, 2: 317, 4: 28, 8: 107}\n"
     ]
    }
   ],
   "source": [
    "#输出每类有几篇文章\n",
    "result = list(clf_ny10.predict(tfidf_ny))\n",
    "print ('Cluster distribution:')\n",
    "print (dict([(i, result.count(i)) for i in result]))"
   ]
  },
  {
   "cell_type": "markdown",
   "id": "0278f338",
   "metadata": {},
   "source": [
    "# 企业相关聚类"
   ]
  },
  {
   "cell_type": "code",
   "execution_count": 86,
   "id": "cea11333",
   "metadata": {},
   "outputs": [],
   "source": [
    "content_qiye = []\n",
    "for i in range(len(content_list)):\n",
    "    if ('企业' in content_list[i]):\n",
    "        content_qiye.append(content_list[i])"
   ]
  },
  {
   "cell_type": "code",
   "execution_count": 87,
   "id": "138edf63",
   "metadata": {},
   "outputs": [
    {
     "data": {
      "text/plain": [
       "11013"
      ]
     },
     "execution_count": 87,
     "metadata": {},
     "output_type": "execute_result"
    }
   ],
   "source": [
    "len(content_qiye)"
   ]
  },
  {
   "cell_type": "markdown",
   "id": "16be4ab9",
   "metadata": {},
   "source": [
    "原始向量长度113549"
   ]
  },
  {
   "cell_type": "code",
   "execution_count": 89,
   "id": "8fba68fa",
   "metadata": {},
   "outputs": [],
   "source": [
    "document_qy = [\" \".join(sent0) for sent0 in content_qiye]\n",
    "#向量长度缩减为十分之一\n",
    "tfidf_model_qy = TfidfVectorizer(max_features = 11355).fit(document_qy) \n",
    "tfidf_qy = tfidf_model_qy.transform(document_qy) \n",
    "word_qy = tfidf_model_qy.get_feature_names()\n",
    "weight_qy = tfidf_qy.toarray()\n",
    "#tfidf_qy"
   ]
  },
  {
   "cell_type": "code",
   "execution_count": 90,
   "id": "10583df1",
   "metadata": {},
   "outputs": [
    {
     "data": {
      "image/png": "[encoded data removed]",
      "text/plain": [
       "<Figure size 432x288 with 1 Axes>"
      ]
     },
     "metadata": {
      "needs_background": "light"
     },
     "output_type": "display_data"
    }
   ],
   "source": [
    "find_optimal_clusters(tfidf_qy,10)"
   ]
  },
  {
   "cell_type": "markdown",
   "id": "619ecd5f",
   "metadata": {},
   "source": [
    "聚八类"
   ]
  },
  {
   "cell_type": "code",
   "execution_count": 91,
   "id": "ada533ef",
   "metadata": {},
   "outputs": [
    {
     "name": "stdout",
     "output_type": "stream",
     "text": [
      "Top terms per cluster:\n",
      "Cluster 0: 企业 工作 生产 疫情 服务 记者 发展 新华社 安全 国家 全国 我国 中国 扶贫 保障 快递 防控 国务院 建设 部门 问题 要求 开展 药品 管理 加强 重点 项目 监管 通知 地区 改革 产业 消费 推进 产品 市场 相关 政策 目前 表示 北京 情况 进行 复工 支持 群众 中央 李克强 行业\n",
      "Cluster 1: 合作 中方 中国 双方 发展 李克强 共同 总理 一带 一路 关系 习近平 王毅 主席 领域 国家 会见 两国 愿同 中东欧 投资 加强 表示 中欧 总统 推动 国际 支持 交流 互利 贸易 领导人 务实 维护 欢迎 经济 共建 两国关系 希望 深化 多边 各国 世界 和平 倡议 会晤 东盟 出席 继续 建设\n",
      "Cluster 2: 贷款 小微 金融 企业 银行 支持 实体经济 融资 金融机构 货币政策 余额 信贷 流动性 利率 央行 同比 政策 货币 资金 增长 增速 降准 普惠 保监会 民营企业 人民银行 企业融资 月末 金融服务 商业银行 增加 百分点 力度 中国人民银行 普惠小微 中小 加大 融资成本 疫情 合理 银行业 风险 发展 服务 保持 定向 长期贷款 稳健 个体工商户 融资规模\n",
      "Cluster 3: 增长 同比 百分点 月份 增速 工业 制造业 下降 企业 消费 我国 利润 以上 指数 上半年 分别 上年 服务业 规模 投资 行业 全国 一季度 外贸 经济 加快 发展 回升 收入 持续 保持 三季度 同期 回落 pmi 增加值 国家统计局 态势 出口 进出口 恢复 平稳 实现 高技术 营业 比上 价格 中国 10 总体\n",
      "Cluster 4: 中国 全球 中国经济 世界 发展 经济 开放 增长 投资 国际 美国 企业 市场 贸易 合作 创新 外资 世界经济 疫情 外商投资 经济增长 国家 表示 各国 成为 环境 知识产权 进口 李克强 博会 消费 推动 对外开放 认为 全球化 一带 一路 持续 我国 改革 今年 报告 复苏 实现 营商 一个 未来 不断 领域 技术\n",
      "Cluster 5: 就业 毕业生 创业 高校 招聘 岗位 万人 培训 农民工 城镇 人员 政策 劳动者 劳动力 企业 服务 灵活 失业 工作 失业率 补贴 群体 技能 稳定 吸纳 支持 职业 社部 促进 保障 新增 人力资源 形势 困难 我国 职业技能 今年 贫困 重点 疫情 稳岗 优先 职工 帮扶 发展 经济 全国 民生 用工 求职\n",
      "Cluster 6: 减税 企业 改革 审批 降费 市场主体 营商 收费 事项 服务 纳税人 增值税 政策 李克强 环境 部门 税收 国务院 监管 降低 政务 优化 税务 放管服 办理 总理 改增 进一步 行政 取消 推进 今年 全国 发展 群众 制度 税率 活力 办事 工作 试点 负担 市场 措施 成本 地方 涉企 实施 会议 深化\n",
      "Cluster 7: 发展 创新 改革 习近平 建设 李克强 企业 中国 经济 推动 互联网 产业 我国 推进 工作 国家 加快 科技 制造 创业 制造业 工业 促进 总书记 总理 技术 坚持 支持 服务 加强 实现 全面 体系 强调 国务院 双创 提升 融合 升级 消费 领域 考察 政策 社会 会议 高质量 完善 就业 生态 制度\n"
     ]
    }
   ],
   "source": [
    "clf_qy8 = KMeans(n_clusters = 8)\n",
    "s_qy8 = clf_qy8.fit(tfidf_qy)\n",
    "#关键词展示\n",
    "print(\"Top terms per cluster:\")\n",
    "order_centroids = s_qy8.cluster_centers_.argsort()[:, ::-1]\n",
    "\n",
    "for i in range(8):\n",
    "    print(\"Cluster %d:\" % i, end='')\n",
    "    for ind in order_centroids[i, :50]:\n",
    "        print(' %s' % word_qy[ind], end='')\n",
    "    print()"
   ]
  },
  {
   "cell_type": "code",
   "execution_count": 92,
   "id": "c86267dc",
   "metadata": {},
   "outputs": [
    {
     "name": "stdout",
     "output_type": "stream",
     "text": [
      "Cluster distribution:\n",
      "{7: 1682, 6: 1081, 0: 4693, 2: 472, 3: 1019, 1: 901, 5: 342, 4: 823}\n"
     ]
    }
   ],
   "source": [
    "#输出每类有几篇文章\n",
    "result = list(clf_qy8.predict(tfidf_qy))\n",
    "print ('Cluster distribution:')\n",
    "print (dict([(i, result.count(i)) for i in result]))"
   ]
  },
  {
   "cell_type": "markdown",
   "id": "a59ca332",
   "metadata": {},
   "source": [
    "聚十类"
   ]
  },
  {
   "cell_type": "code",
   "execution_count": 95,
   "id": "8bf6fa97",
   "metadata": {},
   "outputs": [
    {
     "name": "stdout",
     "output_type": "stream",
     "text": [
      "Top terms per cluster:\n",
      "Cluster 0: 减税 降费 纳税人 增值税 企业 税收 政策 税务 改增 改革 税率 办税 税负 万元 小微 纳税 优惠政策 扣除 部门 国家税务总局 今年 降低 享受 负担 市场主体 支出 税务总局 缴费 优惠 所得税 抵扣 税费 服务 措施 预算 实施 试点 发展 减轻 增长 支持 研发 申报 财政 全国 行业 新增 落实 进一步 成本\n",
      "Cluster 1: 合作 中方 中国 双方 发展 李克强 共同 总理 一带 一路 关系 习近平 王毅 主席 领域 国家 会见 两国 愿同 中东欧 投资 加强 表示 中欧 总统 推动 国际 交流 互利 支持 贸易 领导人 务实 维护 欢迎 经济 共建 两国关系 希望 深化 多边 各国 世界 和平 倡议 会晤 东盟 出席 继续 建设\n",
      "Cluster 2: 增长 同比 月份 百分点 增速 工业 消费 我国 下降 利润 企业 制造业 上半年 以上 投资 上年 分别 规模 一季度 外贸 全国 服务业 收入 行业 发展 加快 三季度 同期 经济 增加值 持续 保持 进出口 出口 营业 实现 态势 国家统计局 10 恢复 高技术 回升 价格 平稳 今年 利润总额 回落 产业 总体 平均\n",
      "Cluster 3: 发展 创新 改革 建设 企业 习近平 李克强 中国 经济 推动 我国 互联网 产业 推进 工作 国家 加快 科技 制造 创业 工业 制造业 技术 促进 总书记 总理 坚持 服务 支持 实现 体系 消费 加强 全面 提升 强调 融合 领域 升级 双创 政策 国务院 社会 高质量 完善 就业 考察 农业 生态 供给\n",
      "Cluster 4: 企业 工作 生产 疫情 记者 发展 新华社 安全 国家 服务 中国 全国 我国 扶贫 国务院 保障 防控 问题 要求 部门 开展 药品 建设 加强 通知 管理 重点 项目 监管 改革 政策 地区 产品 产业 相关 情况 推进 市场 消费 北京 李克强 表示 目前 中央 复工 支持 进行 落实 群众 做好\n",
      "Cluster 5: 中国 全球 中国经济 世界 发展 经济 开放 增长 投资 国际 美国 企业 市场 合作 创新 贸易 外资 世界经济 经济增长 疫情 国家 表示 各国 外商投资 知识产权 成为 李克强 环境 进口 博会 消费 推动 认为 对外开放 全球化 持续 改革 一路 一带 今年 报告 复苏 实现 一个 未来 营商 不断 领域 我国 技术\n",
      "Cluster 6: 贷款 小微 金融 企业 银行 支持 实体经济 融资 金融机构 货币政策 余额 利率 信贷 流动性 央行 同比 货币 政策 资金 增长 降准 增速 人民银行 民营企业 保监会 月末 企业融资 普惠 金融服务 商业银行 增加 百分点 力度 中国人民银行 中小 普惠小微 融资成本 加大 合理 疫情 银行业 风险 发展 定向 保持 长期贷款 稳健 服务 降低 融资规模\n",
      "Cluster 7: 快递 指数 pmi 制造业 百分点 物流 邮政 月份 指数为 采购 比上 业务量 国家邮政局 上升 亿件 行业 回升 订单 扩张 寄递 中国 商务活动 回落 51 快件 高于 景气 企业 有所 增长 临界点 服务 经理 联合会 网点 50 末端 农村 同比 生产 服务业 区间 生产指数 包裹 连续 发展 国家统计局 表明 53 位于\n",
      "Cluster 8: 审批 改革 事项 政务 营商 企业 服务 监管 市场主体 环境 收费 李克强 放管服 办事 行政 国务院 群众 办理 优化 部门 取消 总理 制度 推进 清单 登记 市场 全国 涉企 证照 进一步 开办 合一 证明 会议 活力 工作 许可 简政放权 降低 清理 发展 时间 深化 要求 随机 规范 创新 地方 创业\n",
      "Cluster 9: 就业 毕业生 创业 高校 招聘 岗位 万人 培训 农民工 城镇 人员 政策 劳动者 劳动力 企业 服务 灵活 失业 工作 失业率 补贴 群体 技能 稳定 吸纳 支持 职业 社部 促进 保障 形势 新增 人力资源 困难 我国 今年 职业技能 疫情 贫困 重点 优先 稳岗 职工 发展 经济 帮扶 民生 全国 求职 用工\n"
     ]
    }
   ],
   "source": [
    "clf_qy10 = KMeans(n_clusters = 10)\n",
    "s_qy10 = clf_qy10.fit(tfidf_qy)\n",
    "#关键词展示\n",
    "print(\"Top terms per cluster:\")\n",
    "order_centroids = s_qy10.cluster_centers_.argsort()[:, ::-1]\n",
    "\n",
    "for i in range(10):\n",
    "    print(\"Cluster %d:\" % i, end='')\n",
    "    for ind in order_centroids[i, :50]:\n",
    "        print(' %s' % word_qy[ind], end='')\n",
    "    print()"
   ]
  },
  {
   "cell_type": "code",
   "execution_count": null,
   "id": "e1579b04",
   "metadata": {},
   "outputs": [],
   "source": []
  }
 ],
 "metadata": {
  "kernelspec": {
   "display_name": "Python 3",
   "language": "python",
   "name": "python3"
  },
  "language_info": {
   "codemirror_mode": {
    "name": "ipython",
    "version": 3
   },
   "file_extension": ".py",
   "mimetype": "text/x-python",
   "name": "python",
   "nbconvert_exporter": "python",
   "pygments_lexer": "ipython3",
   "version": "3.6.4"
  }
 },
 "nbformat": 4,
 "nbformat_minor": 5
}
